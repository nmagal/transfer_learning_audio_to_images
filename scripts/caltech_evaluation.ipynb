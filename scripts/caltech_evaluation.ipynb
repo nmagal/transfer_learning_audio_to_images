{
  "nbformat": 4,
  "nbformat_minor": 0,
  "metadata": {
    "colab": {
      "provenance": []
    },
    "kernelspec": {
      "name": "python3",
      "display_name": "Python 3"
    },
    "language_info": {
      "name": "python"
    },
    "gpuClass": "standard",
    "accelerator": "GPU",
    "widgets": {
      "application/vnd.jupyter.widget-state+json": {
        "b9fa8cc700624be69abd2fa394fcb69d": {
          "model_module": "@jupyter-widgets/controls",
          "model_name": "VBoxModel",
          "model_module_version": "1.5.0",
          "state": {
            "_dom_classes": [],
            "_model_module": "@jupyter-widgets/controls",
            "_model_module_version": "1.5.0",
            "_model_name": "VBoxModel",
            "_view_count": null,
            "_view_module": "@jupyter-widgets/controls",
            "_view_module_version": "1.5.0",
            "_view_name": "VBoxView",
            "box_style": "",
            "children": [
              "IPY_MODEL_15bf5fa5089043e7aac40fe80a456ad5",
              "IPY_MODEL_616bb47c17434a3791045ea497f1db59"
            ],
            "layout": "IPY_MODEL_866079f6335643cca804212209c72cd1"
          }
        },
        "15bf5fa5089043e7aac40fe80a456ad5": {
          "model_module": "@jupyter-widgets/controls",
          "model_name": "LabelModel",
          "model_module_version": "1.5.0",
          "state": {
            "_dom_classes": [],
            "_model_module": "@jupyter-widgets/controls",
            "_model_module_version": "1.5.0",
            "_model_name": "LabelModel",
            "_view_count": null,
            "_view_module": "@jupyter-widgets/controls",
            "_view_module_version": "1.5.0",
            "_view_name": "LabelView",
            "description": "",
            "description_tooltip": null,
            "layout": "IPY_MODEL_1b1cccf24a7146cb94d09798df5635b3",
            "placeholder": "​",
            "style": "IPY_MODEL_5cd13fadab314eda92d789aa07917b37",
            "value": "0.001 MB of 0.011 MB uploaded (0.000 MB deduped)\r"
          }
        },
        "616bb47c17434a3791045ea497f1db59": {
          "model_module": "@jupyter-widgets/controls",
          "model_name": "FloatProgressModel",
          "model_module_version": "1.5.0",
          "state": {
            "_dom_classes": [],
            "_model_module": "@jupyter-widgets/controls",
            "_model_module_version": "1.5.0",
            "_model_name": "FloatProgressModel",
            "_view_count": null,
            "_view_module": "@jupyter-widgets/controls",
            "_view_module_version": "1.5.0",
            "_view_name": "ProgressView",
            "bar_style": "",
            "description": "",
            "description_tooltip": null,
            "layout": "IPY_MODEL_d36f74f07eaa421182c6b59e013e3d38",
            "max": 1,
            "min": 0,
            "orientation": "horizontal",
            "style": "IPY_MODEL_6c3dba016e6a41bcb71871bb71ae0c23",
            "value": 0.07424349049964814
          }
        },
        "866079f6335643cca804212209c72cd1": {
          "model_module": "@jupyter-widgets/base",
          "model_name": "LayoutModel",
          "model_module_version": "1.2.0",
          "state": {
            "_model_module": "@jupyter-widgets/base",
            "_model_module_version": "1.2.0",
            "_model_name": "LayoutModel",
            "_view_count": null,
            "_view_module": "@jupyter-widgets/base",
            "_view_module_version": "1.2.0",
            "_view_name": "LayoutView",
            "align_content": null,
            "align_items": null,
            "align_self": null,
            "border": null,
            "bottom": null,
            "display": null,
            "flex": null,
            "flex_flow": null,
            "grid_area": null,
            "grid_auto_columns": null,
            "grid_auto_flow": null,
            "grid_auto_rows": null,
            "grid_column": null,
            "grid_gap": null,
            "grid_row": null,
            "grid_template_areas": null,
            "grid_template_columns": null,
            "grid_template_rows": null,
            "height": null,
            "justify_content": null,
            "justify_items": null,
            "left": null,
            "margin": null,
            "max_height": null,
            "max_width": null,
            "min_height": null,
            "min_width": null,
            "object_fit": null,
            "object_position": null,
            "order": null,
            "overflow": null,
            "overflow_x": null,
            "overflow_y": null,
            "padding": null,
            "right": null,
            "top": null,
            "visibility": null,
            "width": null
          }
        },
        "1b1cccf24a7146cb94d09798df5635b3": {
          "model_module": "@jupyter-widgets/base",
          "model_name": "LayoutModel",
          "model_module_version": "1.2.0",
          "state": {
            "_model_module": "@jupyter-widgets/base",
            "_model_module_version": "1.2.0",
            "_model_name": "LayoutModel",
            "_view_count": null,
            "_view_module": "@jupyter-widgets/base",
            "_view_module_version": "1.2.0",
            "_view_name": "LayoutView",
            "align_content": null,
            "align_items": null,
            "align_self": null,
            "border": null,
            "bottom": null,
            "display": null,
            "flex": null,
            "flex_flow": null,
            "grid_area": null,
            "grid_auto_columns": null,
            "grid_auto_flow": null,
            "grid_auto_rows": null,
            "grid_column": null,
            "grid_gap": null,
            "grid_row": null,
            "grid_template_areas": null,
            "grid_template_columns": null,
            "grid_template_rows": null,
            "height": null,
            "justify_content": null,
            "justify_items": null,
            "left": null,
            "margin": null,
            "max_height": null,
            "max_width": null,
            "min_height": null,
            "min_width": null,
            "object_fit": null,
            "object_position": null,
            "order": null,
            "overflow": null,
            "overflow_x": null,
            "overflow_y": null,
            "padding": null,
            "right": null,
            "top": null,
            "visibility": null,
            "width": null
          }
        },
        "5cd13fadab314eda92d789aa07917b37": {
          "model_module": "@jupyter-widgets/controls",
          "model_name": "DescriptionStyleModel",
          "model_module_version": "1.5.0",
          "state": {
            "_model_module": "@jupyter-widgets/controls",
            "_model_module_version": "1.5.0",
            "_model_name": "DescriptionStyleModel",
            "_view_count": null,
            "_view_module": "@jupyter-widgets/base",
            "_view_module_version": "1.2.0",
            "_view_name": "StyleView",
            "description_width": ""
          }
        },
        "d36f74f07eaa421182c6b59e013e3d38": {
          "model_module": "@jupyter-widgets/base",
          "model_name": "LayoutModel",
          "model_module_version": "1.2.0",
          "state": {
            "_model_module": "@jupyter-widgets/base",
            "_model_module_version": "1.2.0",
            "_model_name": "LayoutModel",
            "_view_count": null,
            "_view_module": "@jupyter-widgets/base",
            "_view_module_version": "1.2.0",
            "_view_name": "LayoutView",
            "align_content": null,
            "align_items": null,
            "align_self": null,
            "border": null,
            "bottom": null,
            "display": null,
            "flex": null,
            "flex_flow": null,
            "grid_area": null,
            "grid_auto_columns": null,
            "grid_auto_flow": null,
            "grid_auto_rows": null,
            "grid_column": null,
            "grid_gap": null,
            "grid_row": null,
            "grid_template_areas": null,
            "grid_template_columns": null,
            "grid_template_rows": null,
            "height": null,
            "justify_content": null,
            "justify_items": null,
            "left": null,
            "margin": null,
            "max_height": null,
            "max_width": null,
            "min_height": null,
            "min_width": null,
            "object_fit": null,
            "object_position": null,
            "order": null,
            "overflow": null,
            "overflow_x": null,
            "overflow_y": null,
            "padding": null,
            "right": null,
            "top": null,
            "visibility": null,
            "width": null
          }
        },
        "6c3dba016e6a41bcb71871bb71ae0c23": {
          "model_module": "@jupyter-widgets/controls",
          "model_name": "ProgressStyleModel",
          "model_module_version": "1.5.0",
          "state": {
            "_model_module": "@jupyter-widgets/controls",
            "_model_module_version": "1.5.0",
            "_model_name": "ProgressStyleModel",
            "_view_count": null,
            "_view_module": "@jupyter-widgets/base",
            "_view_module_version": "1.2.0",
            "_view_name": "StyleView",
            "bar_color": null,
            "description_width": ""
          }
        },
        "58cd20c073d149fb887b4760f033b598": {
          "model_module": "@jupyter-widgets/controls",
          "model_name": "VBoxModel",
          "model_module_version": "1.5.0",
          "state": {
            "_dom_classes": [],
            "_model_module": "@jupyter-widgets/controls",
            "_model_module_version": "1.5.0",
            "_model_name": "VBoxModel",
            "_view_count": null,
            "_view_module": "@jupyter-widgets/controls",
            "_view_module_version": "1.5.0",
            "_view_name": "VBoxView",
            "box_style": "",
            "children": [
              "IPY_MODEL_4181524ed1154987ba674231e9978ba3",
              "IPY_MODEL_d4bf77140629427e93aa1e407b0c8b94"
            ],
            "layout": "IPY_MODEL_0c94125e0cb046d19d0764782d6c97cb"
          }
        },
        "4181524ed1154987ba674231e9978ba3": {
          "model_module": "@jupyter-widgets/controls",
          "model_name": "LabelModel",
          "model_module_version": "1.5.0",
          "state": {
            "_dom_classes": [],
            "_model_module": "@jupyter-widgets/controls",
            "_model_module_version": "1.5.0",
            "_model_name": "LabelModel",
            "_view_count": null,
            "_view_module": "@jupyter-widgets/controls",
            "_view_module_version": "1.5.0",
            "_view_name": "LabelView",
            "description": "",
            "description_tooltip": null,
            "layout": "IPY_MODEL_af1f840420304bcfb1e6a90b3b86d5ee",
            "placeholder": "​",
            "style": "IPY_MODEL_b88877fca6934afcb9fb8db1a2e9fca2",
            "value": "0.011 MB of 0.011 MB uploaded (0.000 MB deduped)\r"
          }
        },
        "d4bf77140629427e93aa1e407b0c8b94": {
          "model_module": "@jupyter-widgets/controls",
          "model_name": "FloatProgressModel",
          "model_module_version": "1.5.0",
          "state": {
            "_dom_classes": [],
            "_model_module": "@jupyter-widgets/controls",
            "_model_module_version": "1.5.0",
            "_model_name": "FloatProgressModel",
            "_view_count": null,
            "_view_module": "@jupyter-widgets/controls",
            "_view_module_version": "1.5.0",
            "_view_name": "ProgressView",
            "bar_style": "",
            "description": "",
            "description_tooltip": null,
            "layout": "IPY_MODEL_f77f4b16251540aaa5bf53d9b4e79de8",
            "max": 1,
            "min": 0,
            "orientation": "horizontal",
            "style": "IPY_MODEL_d89e33f59a0c4c189b14ba6607d526d4",
            "value": 1
          }
        },
        "0c94125e0cb046d19d0764782d6c97cb": {
          "model_module": "@jupyter-widgets/base",
          "model_name": "LayoutModel",
          "model_module_version": "1.2.0",
          "state": {
            "_model_module": "@jupyter-widgets/base",
            "_model_module_version": "1.2.0",
            "_model_name": "LayoutModel",
            "_view_count": null,
            "_view_module": "@jupyter-widgets/base",
            "_view_module_version": "1.2.0",
            "_view_name": "LayoutView",
            "align_content": null,
            "align_items": null,
            "align_self": null,
            "border": null,
            "bottom": null,
            "display": null,
            "flex": null,
            "flex_flow": null,
            "grid_area": null,
            "grid_auto_columns": null,
            "grid_auto_flow": null,
            "grid_auto_rows": null,
            "grid_column": null,
            "grid_gap": null,
            "grid_row": null,
            "grid_template_areas": null,
            "grid_template_columns": null,
            "grid_template_rows": null,
            "height": null,
            "justify_content": null,
            "justify_items": null,
            "left": null,
            "margin": null,
            "max_height": null,
            "max_width": null,
            "min_height": null,
            "min_width": null,
            "object_fit": null,
            "object_position": null,
            "order": null,
            "overflow": null,
            "overflow_x": null,
            "overflow_y": null,
            "padding": null,
            "right": null,
            "top": null,
            "visibility": null,
            "width": null
          }
        },
        "af1f840420304bcfb1e6a90b3b86d5ee": {
          "model_module": "@jupyter-widgets/base",
          "model_name": "LayoutModel",
          "model_module_version": "1.2.0",
          "state": {
            "_model_module": "@jupyter-widgets/base",
            "_model_module_version": "1.2.0",
            "_model_name": "LayoutModel",
            "_view_count": null,
            "_view_module": "@jupyter-widgets/base",
            "_view_module_version": "1.2.0",
            "_view_name": "LayoutView",
            "align_content": null,
            "align_items": null,
            "align_self": null,
            "border": null,
            "bottom": null,
            "display": null,
            "flex": null,
            "flex_flow": null,
            "grid_area": null,
            "grid_auto_columns": null,
            "grid_auto_flow": null,
            "grid_auto_rows": null,
            "grid_column": null,
            "grid_gap": null,
            "grid_row": null,
            "grid_template_areas": null,
            "grid_template_columns": null,
            "grid_template_rows": null,
            "height": null,
            "justify_content": null,
            "justify_items": null,
            "left": null,
            "margin": null,
            "max_height": null,
            "max_width": null,
            "min_height": null,
            "min_width": null,
            "object_fit": null,
            "object_position": null,
            "order": null,
            "overflow": null,
            "overflow_x": null,
            "overflow_y": null,
            "padding": null,
            "right": null,
            "top": null,
            "visibility": null,
            "width": null
          }
        },
        "b88877fca6934afcb9fb8db1a2e9fca2": {
          "model_module": "@jupyter-widgets/controls",
          "model_name": "DescriptionStyleModel",
          "model_module_version": "1.5.0",
          "state": {
            "_model_module": "@jupyter-widgets/controls",
            "_model_module_version": "1.5.0",
            "_model_name": "DescriptionStyleModel",
            "_view_count": null,
            "_view_module": "@jupyter-widgets/base",
            "_view_module_version": "1.2.0",
            "_view_name": "StyleView",
            "description_width": ""
          }
        },
        "f77f4b16251540aaa5bf53d9b4e79de8": {
          "model_module": "@jupyter-widgets/base",
          "model_name": "LayoutModel",
          "model_module_version": "1.2.0",
          "state": {
            "_model_module": "@jupyter-widgets/base",
            "_model_module_version": "1.2.0",
            "_model_name": "LayoutModel",
            "_view_count": null,
            "_view_module": "@jupyter-widgets/base",
            "_view_module_version": "1.2.0",
            "_view_name": "LayoutView",
            "align_content": null,
            "align_items": null,
            "align_self": null,
            "border": null,
            "bottom": null,
            "display": null,
            "flex": null,
            "flex_flow": null,
            "grid_area": null,
            "grid_auto_columns": null,
            "grid_auto_flow": null,
            "grid_auto_rows": null,
            "grid_column": null,
            "grid_gap": null,
            "grid_row": null,
            "grid_template_areas": null,
            "grid_template_columns": null,
            "grid_template_rows": null,
            "height": null,
            "justify_content": null,
            "justify_items": null,
            "left": null,
            "margin": null,
            "max_height": null,
            "max_width": null,
            "min_height": null,
            "min_width": null,
            "object_fit": null,
            "object_position": null,
            "order": null,
            "overflow": null,
            "overflow_x": null,
            "overflow_y": null,
            "padding": null,
            "right": null,
            "top": null,
            "visibility": null,
            "width": null
          }
        },
        "d89e33f59a0c4c189b14ba6607d526d4": {
          "model_module": "@jupyter-widgets/controls",
          "model_name": "ProgressStyleModel",
          "model_module_version": "1.5.0",
          "state": {
            "_model_module": "@jupyter-widgets/controls",
            "_model_module_version": "1.5.0",
            "_model_name": "ProgressStyleModel",
            "_view_count": null,
            "_view_module": "@jupyter-widgets/base",
            "_view_module_version": "1.2.0",
            "_view_name": "StyleView",
            "bar_color": null,
            "description_width": ""
          }
        },
        "78efbf06a6274cbeb7aefb80553df8b4": {
          "model_module": "@jupyter-widgets/controls",
          "model_name": "VBoxModel",
          "model_module_version": "1.5.0",
          "state": {
            "_dom_classes": [],
            "_model_module": "@jupyter-widgets/controls",
            "_model_module_version": "1.5.0",
            "_model_name": "VBoxModel",
            "_view_count": null,
            "_view_module": "@jupyter-widgets/controls",
            "_view_module_version": "1.5.0",
            "_view_name": "VBoxView",
            "box_style": "",
            "children": [
              "IPY_MODEL_9ca0db0d0e1f413bb25011601d96d74b",
              "IPY_MODEL_48a1225ebbfc4fc9b63e6737afddcf1f"
            ],
            "layout": "IPY_MODEL_a5be901dcf1c4d5db1b1d9d958979695"
          }
        },
        "9ca0db0d0e1f413bb25011601d96d74b": {
          "model_module": "@jupyter-widgets/controls",
          "model_name": "LabelModel",
          "model_module_version": "1.5.0",
          "state": {
            "_dom_classes": [],
            "_model_module": "@jupyter-widgets/controls",
            "_model_module_version": "1.5.0",
            "_model_name": "LabelModel",
            "_view_count": null,
            "_view_module": "@jupyter-widgets/controls",
            "_view_module_version": "1.5.0",
            "_view_name": "LabelView",
            "description": "",
            "description_tooltip": null,
            "layout": "IPY_MODEL_6987171815504893a94c2b5065f2833e",
            "placeholder": "​",
            "style": "IPY_MODEL_afd1399e9f1c49a9884d9d492e0d4c99",
            "value": "0.001 MB of 0.011 MB uploaded (0.000 MB deduped)\r"
          }
        },
        "48a1225ebbfc4fc9b63e6737afddcf1f": {
          "model_module": "@jupyter-widgets/controls",
          "model_name": "FloatProgressModel",
          "model_module_version": "1.5.0",
          "state": {
            "_dom_classes": [],
            "_model_module": "@jupyter-widgets/controls",
            "_model_module_version": "1.5.0",
            "_model_name": "FloatProgressModel",
            "_view_count": null,
            "_view_module": "@jupyter-widgets/controls",
            "_view_module_version": "1.5.0",
            "_view_name": "ProgressView",
            "bar_style": "",
            "description": "",
            "description_tooltip": null,
            "layout": "IPY_MODEL_7bc474483a3c4116ab62813a13039c19",
            "max": 1,
            "min": 0,
            "orientation": "horizontal",
            "style": "IPY_MODEL_cd8aef4c516a4f22bdc1e0c649af83d0",
            "value": 0.07466383581033263
          }
        },
        "a5be901dcf1c4d5db1b1d9d958979695": {
          "model_module": "@jupyter-widgets/base",
          "model_name": "LayoutModel",
          "model_module_version": "1.2.0",
          "state": {
            "_model_module": "@jupyter-widgets/base",
            "_model_module_version": "1.2.0",
            "_model_name": "LayoutModel",
            "_view_count": null,
            "_view_module": "@jupyter-widgets/base",
            "_view_module_version": "1.2.0",
            "_view_name": "LayoutView",
            "align_content": null,
            "align_items": null,
            "align_self": null,
            "border": null,
            "bottom": null,
            "display": null,
            "flex": null,
            "flex_flow": null,
            "grid_area": null,
            "grid_auto_columns": null,
            "grid_auto_flow": null,
            "grid_auto_rows": null,
            "grid_column": null,
            "grid_gap": null,
            "grid_row": null,
            "grid_template_areas": null,
            "grid_template_columns": null,
            "grid_template_rows": null,
            "height": null,
            "justify_content": null,
            "justify_items": null,
            "left": null,
            "margin": null,
            "max_height": null,
            "max_width": null,
            "min_height": null,
            "min_width": null,
            "object_fit": null,
            "object_position": null,
            "order": null,
            "overflow": null,
            "overflow_x": null,
            "overflow_y": null,
            "padding": null,
            "right": null,
            "top": null,
            "visibility": null,
            "width": null
          }
        },
        "6987171815504893a94c2b5065f2833e": {
          "model_module": "@jupyter-widgets/base",
          "model_name": "LayoutModel",
          "model_module_version": "1.2.0",
          "state": {
            "_model_module": "@jupyter-widgets/base",
            "_model_module_version": "1.2.0",
            "_model_name": "LayoutModel",
            "_view_count": null,
            "_view_module": "@jupyter-widgets/base",
            "_view_module_version": "1.2.0",
            "_view_name": "LayoutView",
            "align_content": null,
            "align_items": null,
            "align_self": null,
            "border": null,
            "bottom": null,
            "display": null,
            "flex": null,
            "flex_flow": null,
            "grid_area": null,
            "grid_auto_columns": null,
            "grid_auto_flow": null,
            "grid_auto_rows": null,
            "grid_column": null,
            "grid_gap": null,
            "grid_row": null,
            "grid_template_areas": null,
            "grid_template_columns": null,
            "grid_template_rows": null,
            "height": null,
            "justify_content": null,
            "justify_items": null,
            "left": null,
            "margin": null,
            "max_height": null,
            "max_width": null,
            "min_height": null,
            "min_width": null,
            "object_fit": null,
            "object_position": null,
            "order": null,
            "overflow": null,
            "overflow_x": null,
            "overflow_y": null,
            "padding": null,
            "right": null,
            "top": null,
            "visibility": null,
            "width": null
          }
        },
        "afd1399e9f1c49a9884d9d492e0d4c99": {
          "model_module": "@jupyter-widgets/controls",
          "model_name": "DescriptionStyleModel",
          "model_module_version": "1.5.0",
          "state": {
            "_model_module": "@jupyter-widgets/controls",
            "_model_module_version": "1.5.0",
            "_model_name": "DescriptionStyleModel",
            "_view_count": null,
            "_view_module": "@jupyter-widgets/base",
            "_view_module_version": "1.2.0",
            "_view_name": "StyleView",
            "description_width": ""
          }
        },
        "7bc474483a3c4116ab62813a13039c19": {
          "model_module": "@jupyter-widgets/base",
          "model_name": "LayoutModel",
          "model_module_version": "1.2.0",
          "state": {
            "_model_module": "@jupyter-widgets/base",
            "_model_module_version": "1.2.0",
            "_model_name": "LayoutModel",
            "_view_count": null,
            "_view_module": "@jupyter-widgets/base",
            "_view_module_version": "1.2.0",
            "_view_name": "LayoutView",
            "align_content": null,
            "align_items": null,
            "align_self": null,
            "border": null,
            "bottom": null,
            "display": null,
            "flex": null,
            "flex_flow": null,
            "grid_area": null,
            "grid_auto_columns": null,
            "grid_auto_flow": null,
            "grid_auto_rows": null,
            "grid_column": null,
            "grid_gap": null,
            "grid_row": null,
            "grid_template_areas": null,
            "grid_template_columns": null,
            "grid_template_rows": null,
            "height": null,
            "justify_content": null,
            "justify_items": null,
            "left": null,
            "margin": null,
            "max_height": null,
            "max_width": null,
            "min_height": null,
            "min_width": null,
            "object_fit": null,
            "object_position": null,
            "order": null,
            "overflow": null,
            "overflow_x": null,
            "overflow_y": null,
            "padding": null,
            "right": null,
            "top": null,
            "visibility": null,
            "width": null
          }
        },
        "cd8aef4c516a4f22bdc1e0c649af83d0": {
          "model_module": "@jupyter-widgets/controls",
          "model_name": "ProgressStyleModel",
          "model_module_version": "1.5.0",
          "state": {
            "_model_module": "@jupyter-widgets/controls",
            "_model_module_version": "1.5.0",
            "_model_name": "ProgressStyleModel",
            "_view_count": null,
            "_view_module": "@jupyter-widgets/base",
            "_view_module_version": "1.2.0",
            "_view_name": "StyleView",
            "bar_color": null,
            "description_width": ""
          }
        },
        "99acbb25dcd144069ceeaa2ca2d8f553": {
          "model_module": "@jupyter-widgets/controls",
          "model_name": "VBoxModel",
          "model_module_version": "1.5.0",
          "state": {
            "_dom_classes": [],
            "_model_module": "@jupyter-widgets/controls",
            "_model_module_version": "1.5.0",
            "_model_name": "VBoxModel",
            "_view_count": null,
            "_view_module": "@jupyter-widgets/controls",
            "_view_module_version": "1.5.0",
            "_view_name": "VBoxView",
            "box_style": "",
            "children": [
              "IPY_MODEL_9c7754ac62d44fbbabfd677e6f624d57",
              "IPY_MODEL_71b14e53730b4ff094199e3ef0834ac8"
            ],
            "layout": "IPY_MODEL_35bc524ce1e54a1fb69fa2433c9f75e1"
          }
        },
        "9c7754ac62d44fbbabfd677e6f624d57": {
          "model_module": "@jupyter-widgets/controls",
          "model_name": "LabelModel",
          "model_module_version": "1.5.0",
          "state": {
            "_dom_classes": [],
            "_model_module": "@jupyter-widgets/controls",
            "_model_module_version": "1.5.0",
            "_model_name": "LabelModel",
            "_view_count": null,
            "_view_module": "@jupyter-widgets/controls",
            "_view_module_version": "1.5.0",
            "_view_name": "LabelView",
            "description": "",
            "description_tooltip": null,
            "layout": "IPY_MODEL_17cb7ea0d51340b0b9fb3137cbd8e1d6",
            "placeholder": "​",
            "style": "IPY_MODEL_43d001f89dfd4ff19cc3879783ae7515",
            "value": "0.001 MB of 0.011 MB uploaded (0.000 MB deduped)\r"
          }
        },
        "71b14e53730b4ff094199e3ef0834ac8": {
          "model_module": "@jupyter-widgets/controls",
          "model_name": "FloatProgressModel",
          "model_module_version": "1.5.0",
          "state": {
            "_dom_classes": [],
            "_model_module": "@jupyter-widgets/controls",
            "_model_module_version": "1.5.0",
            "_model_name": "FloatProgressModel",
            "_view_count": null,
            "_view_module": "@jupyter-widgets/controls",
            "_view_module_version": "1.5.0",
            "_view_name": "ProgressView",
            "bar_style": "",
            "description": "",
            "description_tooltip": null,
            "layout": "IPY_MODEL_a33659429dca49ec820f4d5dbffc0628",
            "max": 1,
            "min": 0,
            "orientation": "horizontal",
            "style": "IPY_MODEL_32ae42f621ce4187ae43baf3b1df9c40",
            "value": 0.074083838650145
          }
        },
        "35bc524ce1e54a1fb69fa2433c9f75e1": {
          "model_module": "@jupyter-widgets/base",
          "model_name": "LayoutModel",
          "model_module_version": "1.2.0",
          "state": {
            "_model_module": "@jupyter-widgets/base",
            "_model_module_version": "1.2.0",
            "_model_name": "LayoutModel",
            "_view_count": null,
            "_view_module": "@jupyter-widgets/base",
            "_view_module_version": "1.2.0",
            "_view_name": "LayoutView",
            "align_content": null,
            "align_items": null,
            "align_self": null,
            "border": null,
            "bottom": null,
            "display": null,
            "flex": null,
            "flex_flow": null,
            "grid_area": null,
            "grid_auto_columns": null,
            "grid_auto_flow": null,
            "grid_auto_rows": null,
            "grid_column": null,
            "grid_gap": null,
            "grid_row": null,
            "grid_template_areas": null,
            "grid_template_columns": null,
            "grid_template_rows": null,
            "height": null,
            "justify_content": null,
            "justify_items": null,
            "left": null,
            "margin": null,
            "max_height": null,
            "max_width": null,
            "min_height": null,
            "min_width": null,
            "object_fit": null,
            "object_position": null,
            "order": null,
            "overflow": null,
            "overflow_x": null,
            "overflow_y": null,
            "padding": null,
            "right": null,
            "top": null,
            "visibility": null,
            "width": null
          }
        },
        "17cb7ea0d51340b0b9fb3137cbd8e1d6": {
          "model_module": "@jupyter-widgets/base",
          "model_name": "LayoutModel",
          "model_module_version": "1.2.0",
          "state": {
            "_model_module": "@jupyter-widgets/base",
            "_model_module_version": "1.2.0",
            "_model_name": "LayoutModel",
            "_view_count": null,
            "_view_module": "@jupyter-widgets/base",
            "_view_module_version": "1.2.0",
            "_view_name": "LayoutView",
            "align_content": null,
            "align_items": null,
            "align_self": null,
            "border": null,
            "bottom": null,
            "display": null,
            "flex": null,
            "flex_flow": null,
            "grid_area": null,
            "grid_auto_columns": null,
            "grid_auto_flow": null,
            "grid_auto_rows": null,
            "grid_column": null,
            "grid_gap": null,
            "grid_row": null,
            "grid_template_areas": null,
            "grid_template_columns": null,
            "grid_template_rows": null,
            "height": null,
            "justify_content": null,
            "justify_items": null,
            "left": null,
            "margin": null,
            "max_height": null,
            "max_width": null,
            "min_height": null,
            "min_width": null,
            "object_fit": null,
            "object_position": null,
            "order": null,
            "overflow": null,
            "overflow_x": null,
            "overflow_y": null,
            "padding": null,
            "right": null,
            "top": null,
            "visibility": null,
            "width": null
          }
        },
        "43d001f89dfd4ff19cc3879783ae7515": {
          "model_module": "@jupyter-widgets/controls",
          "model_name": "DescriptionStyleModel",
          "model_module_version": "1.5.0",
          "state": {
            "_model_module": "@jupyter-widgets/controls",
            "_model_module_version": "1.5.0",
            "_model_name": "DescriptionStyleModel",
            "_view_count": null,
            "_view_module": "@jupyter-widgets/base",
            "_view_module_version": "1.2.0",
            "_view_name": "StyleView",
            "description_width": ""
          }
        },
        "a33659429dca49ec820f4d5dbffc0628": {
          "model_module": "@jupyter-widgets/base",
          "model_name": "LayoutModel",
          "model_module_version": "1.2.0",
          "state": {
            "_model_module": "@jupyter-widgets/base",
            "_model_module_version": "1.2.0",
            "_model_name": "LayoutModel",
            "_view_count": null,
            "_view_module": "@jupyter-widgets/base",
            "_view_module_version": "1.2.0",
            "_view_name": "LayoutView",
            "align_content": null,
            "align_items": null,
            "align_self": null,
            "border": null,
            "bottom": null,
            "display": null,
            "flex": null,
            "flex_flow": null,
            "grid_area": null,
            "grid_auto_columns": null,
            "grid_auto_flow": null,
            "grid_auto_rows": null,
            "grid_column": null,
            "grid_gap": null,
            "grid_row": null,
            "grid_template_areas": null,
            "grid_template_columns": null,
            "grid_template_rows": null,
            "height": null,
            "justify_content": null,
            "justify_items": null,
            "left": null,
            "margin": null,
            "max_height": null,
            "max_width": null,
            "min_height": null,
            "min_width": null,
            "object_fit": null,
            "object_position": null,
            "order": null,
            "overflow": null,
            "overflow_x": null,
            "overflow_y": null,
            "padding": null,
            "right": null,
            "top": null,
            "visibility": null,
            "width": null
          }
        },
        "32ae42f621ce4187ae43baf3b1df9c40": {
          "model_module": "@jupyter-widgets/controls",
          "model_name": "ProgressStyleModel",
          "model_module_version": "1.5.0",
          "state": {
            "_model_module": "@jupyter-widgets/controls",
            "_model_module_version": "1.5.0",
            "_model_name": "ProgressStyleModel",
            "_view_count": null,
            "_view_module": "@jupyter-widgets/base",
            "_view_module_version": "1.2.0",
            "_view_name": "StyleView",
            "bar_color": null,
            "description_width": ""
          }
        }
      }
    }
  },
  "cells": [
    {
      "cell_type": "markdown",
      "source": [
        "# Setup"
      ],
      "metadata": {
        "id": "dXAP7-Lyp9Iq"
      }
    },
    {
      "cell_type": "code",
      "execution_count": 1,
      "metadata": {
        "colab": {
          "base_uri": "https://localhost:8080/"
        },
        "id": "tTFFv4RJpsqW",
        "outputId": "8a51fd95-825d-49b9-9940-e178f85f4d0d"
      },
      "outputs": [
        {
          "output_type": "stream",
          "name": "stdout",
          "text": [
            "Looking in indexes: https://pypi.org/simple, https://us-python.pkg.dev/colab-wheels/public/simple/\n",
            "Requirement already satisfied: wandb in /usr/local/lib/python3.9/dist-packages (0.14.0)\n",
            "Requirement already satisfied: GitPython!=3.1.29,>=1.0.0 in /usr/local/lib/python3.9/dist-packages (from wandb) (3.1.31)\n",
            "Requirement already satisfied: typing-extensions in /usr/local/lib/python3.9/dist-packages (from wandb) (4.5.0)\n",
            "Requirement already satisfied: docker-pycreds>=0.4.0 in /usr/local/lib/python3.9/dist-packages (from wandb) (0.4.0)\n",
            "Requirement already satisfied: appdirs>=1.4.3 in /usr/local/lib/python3.9/dist-packages (from wandb) (1.4.4)\n",
            "Requirement already satisfied: psutil>=5.0.0 in /usr/local/lib/python3.9/dist-packages (from wandb) (5.4.8)\n",
            "Requirement already satisfied: Click!=8.0.0,>=7.0 in /usr/local/lib/python3.9/dist-packages (from wandb) (8.1.3)\n",
            "Requirement already satisfied: setuptools in /usr/local/lib/python3.9/dist-packages (from wandb) (63.4.3)\n",
            "Requirement already satisfied: sentry-sdk>=1.0.0 in /usr/local/lib/python3.9/dist-packages (from wandb) (1.17.0)\n",
            "Requirement already satisfied: requests<3,>=2.0.0 in /usr/local/lib/python3.9/dist-packages (from wandb) (2.25.1)\n",
            "Requirement already satisfied: setproctitle in /usr/local/lib/python3.9/dist-packages (from wandb) (1.3.2)\n",
            "Requirement already satisfied: protobuf!=4.21.0,<5,>=3.15.0 in /usr/local/lib/python3.9/dist-packages (from wandb) (3.19.6)\n",
            "Requirement already satisfied: PyYAML in /usr/local/lib/python3.9/dist-packages (from wandb) (6.0)\n",
            "Requirement already satisfied: pathtools in /usr/local/lib/python3.9/dist-packages (from wandb) (0.1.2)\n",
            "Requirement already satisfied: six>=1.4.0 in /usr/local/lib/python3.9/dist-packages (from docker-pycreds>=0.4.0->wandb) (1.15.0)\n",
            "Requirement already satisfied: gitdb<5,>=4.0.1 in /usr/local/lib/python3.9/dist-packages (from GitPython!=3.1.29,>=1.0.0->wandb) (4.0.10)\n",
            "Requirement already satisfied: chardet<5,>=3.0.2 in /usr/local/lib/python3.9/dist-packages (from requests<3,>=2.0.0->wandb) (4.0.0)\n",
            "Requirement already satisfied: idna<3,>=2.5 in /usr/local/lib/python3.9/dist-packages (from requests<3,>=2.0.0->wandb) (2.10)\n",
            "Requirement already satisfied: urllib3<1.27,>=1.21.1 in /usr/local/lib/python3.9/dist-packages (from requests<3,>=2.0.0->wandb) (1.26.15)\n",
            "Requirement already satisfied: certifi>=2017.4.17 in /usr/local/lib/python3.9/dist-packages (from requests<3,>=2.0.0->wandb) (2022.12.7)\n",
            "Requirement already satisfied: smmap<6,>=3.0.1 in /usr/local/lib/python3.9/dist-packages (from gitdb<5,>=4.0.1->GitPython!=3.1.29,>=1.0.0->wandb) (5.0.0)\n"
          ]
        }
      ],
      "source": [
        "import numpy as np\n",
        "import librosa\n",
        "import torch \n",
        "import torch.nn as nn\n",
        "import torch.optim as optim\n",
        "import pandas as pd\n",
        "from datetime import datetime\n",
        "import pdb \n",
        "from google.colab import drive\n",
        "import pandas as pd\n",
        "from psutil import virtual_memory\n",
        "import os\n",
        "from zipfile import ZipFile\n",
        "import torchvision\n",
        "from collections import defaultdict\n",
        "from torchvision import transforms\n",
        "!pip install wandb --upgrade\n",
        "import wandb\n",
        "from sklearn import metrics\n",
        "import random"
      ]
    },
    {
      "cell_type": "code",
      "source": [
        "wandb.login()"
      ],
      "metadata": {
        "colab": {
          "base_uri": "https://localhost:8080/"
        },
        "id": "ey54m9Yk3biG",
        "outputId": "653b4dee-0de0-4583-cd60-98042cc395b8"
      },
      "execution_count": 2,
      "outputs": [
        {
          "output_type": "stream",
          "name": "stderr",
          "text": [
            "\u001b[34m\u001b[1mwandb\u001b[0m: Currently logged in as: \u001b[33mnicholasmagal\u001b[0m. Use \u001b[1m`wandb login --relogin`\u001b[0m to force relogin\n"
          ]
        },
        {
          "output_type": "execute_result",
          "data": {
            "text/plain": [
              "True"
            ]
          },
          "metadata": {},
          "execution_count": 2
        }
      ]
    },
    {
      "cell_type": "code",
      "source": [
        "def set_seed(seed):\n",
        "    random.seed(seed)\n",
        "    np.random.seed(seed)\n",
        "    torch.manual_seed(seed)\n",
        "    if torch.cuda.is_available():\n",
        "        torch.cuda.manual_seed_all(seed)\n",
        "set_seed(0)"
      ],
      "metadata": {
        "id": "JzJAWr4TJ5PL"
      },
      "execution_count": 3,
      "outputs": []
    },
    {
      "cell_type": "markdown",
      "source": [
        "#Model"
      ],
      "metadata": {
        "id": "sY7qcN-v4IxD"
      }
    },
    {
      "cell_type": "code",
      "source": [
        "#hyperparameters\n",
        "config = {\"learning rate\": .001,\n",
        "          \"batch size\": 256,\n",
        "          \"epochs\": 15,\n",
        "          'patience': 4}"
      ],
      "metadata": {
        "id": "yWQr6yY16b3o"
      },
      "execution_count": 4,
      "outputs": []
    },
    {
      "cell_type": "code",
      "source": [
        "#Gpu support\n",
        "device = torch.device(\"cuda:0\" if torch.cuda.is_available() else \"cpu\")\n",
        "print(\"Device is on\",device)\n",
        "\n",
        "#Getting Resnet and loading pretrained weights depending on mode\n",
        "def model_creator(pretrained, pretrained_model_path = None):\n",
        "  if pretrained == False:\n",
        "    model = torch.hub.load('pytorch/vision:v0.10.0', 'resnet18', pretrained=False)\n",
        "    model.fc = nn.Linear(512, 257)\n",
        "    print(\"random init\")\n",
        "\n",
        "  elif pretrained == True:\n",
        "    model = torch.hub.load('pytorch/vision:v0.10.0', 'resnet18', pretrained=False)\n",
        "    model.fc = nn.Linear(512, 50)\n",
        "    model.load_state_dict(torch.load(pretrained_model_path, map_location=torch.device('cpu')))\n",
        "    model.fc = nn.Linear(512, 257) \n",
        "\n",
        "    #Freezing first 5 layers\n",
        "    for i, child in enumerate(model.children()):\n",
        "      if i == 5:\n",
        "        break\n",
        "      for param in child.parameters():\n",
        "        param.requires_grad = False\n",
        "\n",
        "    print('loaded pretrained')\n",
        "\n",
        "  #creating optimizer \n",
        "  optimizer = torch.optim.Adam(model.parameters(), lr=config['learning rate'])\n",
        "  scheduler = torch.optim.lr_scheduler.ReduceLROnPlateau(optimizer, 'max',\n",
        "                                                       patience = config['patience'])\n",
        "  return model, optimizer, scheduler\n",
        "\n",
        "#loss \n",
        "loss_function = torch.nn.CrossEntropyLoss()\n"
      ],
      "metadata": {
        "colab": {
          "base_uri": "https://localhost:8080/"
        },
        "id": "koKMMQnT4KbG",
        "outputId": "5cb30abb-592e-4e57-be8b-aff918639bab"
      },
      "execution_count": 5,
      "outputs": [
        {
          "output_type": "stream",
          "name": "stdout",
          "text": [
            "Device is on cuda:0\n"
          ]
        }
      ]
    },
    {
      "cell_type": "markdown",
      "source": [
        "#Data"
      ],
      "metadata": {
        "id": "9HiRAhfp6gaX"
      }
    },
    {
      "cell_type": "code",
      "source": [
        "import os\n",
        "import os.path\n",
        "from typing import Any, Callable, List, Optional, Tuple, Union\n",
        "\n",
        "from PIL import Image\n",
        "\n",
        "from torchvision.datasets.utils import download_and_extract_archive, verify_str_arg\n",
        "from torchvision.datasets import VisionDataset\n",
        "\n",
        "class Caltech256(VisionDataset):\n",
        "    \"\"\"`Caltech 256 <https://data.caltech.edu/records/20087>`_ Dataset.\n",
        "\n",
        "    Args:\n",
        "        root (string): Root directory of dataset where directory\n",
        "            ``caltech256`` exists or will be saved to if download is set to True.\n",
        "        transform (callable, optional): A function/transform that takes in an PIL image\n",
        "            and returns a transformed version. E.g, ``transforms.RandomCrop``\n",
        "        target_transform (callable, optional): A function/transform that takes in the\n",
        "            target and transforms it.\n",
        "        download (bool, optional): If true, downloads the dataset from the internet and\n",
        "            puts it in root directory. If dataset is already downloaded, it is not\n",
        "            downloaded again.\n",
        "    \"\"\"\n",
        "\n",
        "    def __init__(\n",
        "        self,\n",
        "        root: str,\n",
        "        transform: Optional[Callable] = None,\n",
        "        target_transform: Optional[Callable] = None,\n",
        "        download: bool = False,\n",
        "    ) -> None:\n",
        "        super().__init__(os.path.join(root, \"caltech256\"), transform=transform, target_transform=target_transform)\n",
        "        os.makedirs(self.root, exist_ok=True)\n",
        "\n",
        "        if download:\n",
        "            self.download()\n",
        "\n",
        "        if not self._check_integrity():\n",
        "            raise RuntimeError(\"Dataset not found or corrupted. You can use download=True to download it\")\n",
        "\n",
        "        self.categories = sorted(os.listdir(os.path.join(self.root, \"256_ObjectCategories\")))\n",
        "        self.index: List[int] = []\n",
        "        self.y = []\n",
        "        for (i, c) in enumerate(self.categories):\n",
        "            n = len(\n",
        "                [\n",
        "                    item\n",
        "                    for item in os.listdir(os.path.join(self.root, \"256_ObjectCategories\", c))\n",
        "                    if item.endswith(\".jpg\")\n",
        "                ]\n",
        "            )\n",
        "            self.index.extend(range(1, n + 1))\n",
        "            self.y.extend(n * [i])\n",
        "\n",
        "    def __getitem__(self, index: int) -> Tuple[Any, Any]:\n",
        "        \"\"\"\n",
        "        Args:\n",
        "            index (int): Index\n",
        "\n",
        "        Returns:\n",
        "            tuple: (image, target) where target is index of the target class.\n",
        "        \"\"\"\n",
        "        img = Image.open(\n",
        "            os.path.join(\n",
        "                self.root,\n",
        "                \"256_ObjectCategories\",\n",
        "                self.categories[self.y[index]],\n",
        "                f\"{self.y[index] + 1:03d}_{self.index[index]:04d}.jpg\",\n",
        "            )\n",
        "        ).convert(\"RGB\")\n",
        "\n",
        "        target = self.y[index]\n",
        "\n",
        "        if self.transform is not None:\n",
        "            img = self.transform(img)\n",
        "\n",
        "        if self.target_transform is not None:\n",
        "            target = self.target_transform(target)\n",
        "\n",
        "        return img, target\n",
        "        \n",
        "    def _check_integrity(self) -> bool:\n",
        "        # can be more robust and check hash of files\n",
        "        return os.path.exists(os.path.join(self.root, \"256_ObjectCategories\"))\n",
        "\n",
        "    def __len__(self) -> int:\n",
        "        return len(self.index)\n",
        "\n",
        "    def download(self) -> None:\n",
        "        if self._check_integrity():\n",
        "            print(\"Files already downloaded and verified\")\n",
        "            return\n",
        "\n",
        "        download_and_extract_archive(\n",
        "            \"https://drive.google.com/file/d/1r6o0pSROcV1_VwT4oSjA2FBUSCWGuxLK\",\n",
        "            self.root,\n",
        "            filename=\"256_ObjectCategories.tar\",\n",
        "            md5=\"67b4f42ca05d46448c6bb8ecd2220f6d\",\n",
        "        )\n",
        "\n"
      ],
      "metadata": {
        "id": "oVk9EOmXtPvE"
      },
      "execution_count": 6,
      "outputs": []
    },
    {
      "cell_type": "code",
      "source": [
        "#Dataloader and Datasets\n",
        "cal_transform = transforms.Compose([\n",
        "    transforms.Resize((224,224)),\n",
        "    transforms.RandomHorizontalFlip(),\n",
        "    transforms.RandomRotation(30),\n",
        "    transforms.ToTensor(),\n",
        "     transforms.Normalize([0.485, 0.456, 0.406], [0.229, 0.224, 0.225])\n",
        "])\n",
        "dataset = Caltech256(root = '/content', download = True, transform = cal_transform)\n",
        "generator1 = torch.Generator().manual_seed(42)\n",
        "\n",
        "training_dataset, validation_dataset, testing_dataset = torch.utils.data.random_split(dataset, [.6,.2,.2], generator = generator1)\n",
        "\n",
        "training_loader = torch.utils.data.DataLoader(training_dataset,\n",
        "                                                   batch_size = config['batch size'],\n",
        "                                                   shuffle = True,\n",
        "                                                   num_workers = 1,\n",
        "                                                   pin_memory = True)\n",
        "\n",
        "validation_loader = torch.utils.data.DataLoader(validation_dataset,\n",
        "                                                   batch_size = config['batch size'],\n",
        "                                                   shuffle = True,\n",
        "                                                   num_workers = 1,\n",
        "                                                   pin_memory = True)\n",
        "\n",
        "test_loader = torch.utils.data.DataLoader(testing_dataset,\n",
        "                                                   batch_size = config['batch size'],\n",
        "                                                   shuffle = False,\n",
        "                                                   num_workers = 1,\n",
        "                                                   pin_memory = True)\n"
      ],
      "metadata": {
        "colab": {
          "base_uri": "https://localhost:8080/"
        },
        "id": "E8iuDkZj6jJH",
        "outputId": "d16db25f-71e4-4c9a-ed18-41c1131bb3d1"
      },
      "execution_count": 8,
      "outputs": [
        {
          "output_type": "stream",
          "name": "stdout",
          "text": [
            "Files already downloaded and verified\n"
          ]
        }
      ]
    },
    {
      "cell_type": "markdown",
      "source": [
        "#Training/Testing"
      ],
      "metadata": {
        "id": "Ys3UC4L8031G"
      }
    },
    {
      "cell_type": "code",
      "source": [
        "#train/validate network\n",
        "def train_validate_test(model, train_loader, val_loader, optimizer, loss_function, total_epochs, device, scheduler, config, model_save_location, test_loader, name):\n",
        "\n",
        "  wandb.init(project=\"resnet_pretrained_caltech_run_frozen_weights\", name = name, config=config)\n",
        "\n",
        "  best_validation_acc = -float('inf')\n",
        "  for epoch_num in range(total_epochs):\n",
        "    starting_time = datetime.now()\n",
        "    #summary stats\n",
        "    train_loss_tracker = 0\n",
        "    validation_loss_tracker = 0\n",
        "    total_correct_train = 0\n",
        "    total_correct_validation = 0\n",
        "\n",
        "    model.train() \n",
        "    \n",
        "    for x, y in train_loader:\n",
        "      optimizer.zero_grad()\n",
        "    \n",
        "      x, y = x.to(device), y.to(device) \n",
        "      train_output = model(x)\n",
        "\n",
        "      train_loss = loss_function(train_output, y.long())\n",
        "      train_loss.backward()\n",
        "      optimizer.step()\n",
        "      \n",
        "      #storing loss\n",
        "      train_loss_tracker += train_loss.item()\n",
        "\n",
        "      #storing for acc\n",
        "      prediction_logits, prediction_classes = torch.max(train_output,1)\n",
        "      total_correct_train += (prediction_classes==y).sum().item()\n",
        "    \n",
        "    with torch.no_grad():\n",
        "      model.eval()\n",
        "      \n",
        "      #storage for evaluation of performance\n",
        "      ground_truth = []\n",
        "      predictions = []\n",
        "      \n",
        "      for x, y in val_loader:\n",
        "        x, y = x.to(device), y.to(device)\n",
        "        \n",
        "        #Calculating Loss\n",
        "        val_output = model(x)\n",
        "        val_loss = loss_function(val_output, y.long())\n",
        "        validation_loss_tracker+= val_loss.item()\n",
        "\n",
        "        #Calculating Accuracy\n",
        "        prediction_logits, prediction_classes = torch.max(val_output,1)\n",
        "        total_correct_validation += (prediction_classes==y).sum().item()\n",
        "\n",
        "        #Storage for AUC ROC\n",
        "        val_output = torch.nn.functional.softmax(val_output, dim = 1)\n",
        "        ground_truth.append(y.cpu().detach().numpy())\n",
        "        predictions.append(val_output.cpu().detach().numpy())\n",
        "\n",
        "    \n",
        "    #computing summary stats \n",
        "    avg_train_loss = train_loss_tracker/len(train_loader.dataset)\n",
        "    avg_train_acc = total_correct_train/len(train_loader.dataset)\n",
        "    avg_val_loss = (validation_loss_tracker/len(val_loader.dataset))\n",
        "    avg_val_acc = (total_correct_validation/len(val_loader.dataset))\n",
        "\n",
        "    #roc auc\n",
        "    ground_truth = np.concatenate((ground_truth), axis = 0)\n",
        "    predictions = np.concatenate((predictions), axis = 0)\n",
        "    roc_auc = metrics.roc_auc_score(ground_truth, predictions, average='macro', multi_class = 'ovo')\n",
        "    \n",
        "    scheduler.step(avg_val_loss)\n",
        "    \n",
        "    epoch_runtime = datetime.now() - starting_time \n",
        "    print(f'Epoch: {epoch_num} Train Loss: {avg_train_loss:.4f} Val Loss: {avg_val_loss:.4f} Train Acc: {avg_train_acc:.4f} Val Accuracy: {avg_val_acc:.4f} Val ROC AUC {roc_auc:.4f}')\n",
        "    print(f'Epoch Runtime {epoch_runtime}')\n",
        "    wandb.log({\"Training Average Loss\":avg_train_loss, 'Training Avg Acc':avg_train_acc, \"Val Avg Loss\":avg_val_loss, \"Val Avg Acc\":avg_val_acc, \"Val ROC AUC\":roc_auc})\n",
        "\n",
        "    #if our loss is the new best metric save the model to load later\n",
        "    if avg_val_acc > best_validation_acc:\n",
        "      best_validation_acc = avg_val_acc\n",
        "      torch.save(model.state_dict(), model_save_location)\n",
        "      print(\"saving model\")\n",
        "  \n",
        "  def test(test_loader, model, device):\n",
        "    with torch.no_grad():\n",
        "      model.eval()\n",
        "\n",
        "      #storage for evaluation of performance\n",
        "      ground_truth = []\n",
        "      predictions = []\n",
        "      total_correct_test = 0\n",
        "\n",
        "      for x, y in test_loader:\n",
        "        x, y = x.to(device), y.to(device)\n",
        "        \n",
        "        #Feedforward\n",
        "        test_output = model(x)\n",
        "\n",
        "        #Accuracy Storage\n",
        "        prediction_logits, prediction_classes = torch.max(test_output,1)\n",
        "        total_correct_test += (prediction_classes==y).sum().item()\n",
        "\n",
        "        #updating for ROC function \n",
        "        test_output = torch.nn.functional.softmax(test_output, dim = 1)\n",
        "        ground_truth.append(y.cpu().detach().numpy())\n",
        "        predictions.append(test_output.cpu().detach().numpy())\n",
        "\n",
        "      ground_truth = np.concatenate((ground_truth), axis = 0)\n",
        "      predictions = np.concatenate((predictions), axis = 0)\n",
        "      roc_auc = metrics.roc_auc_score(ground_truth, predictions, average='macro', multi_class = 'ovo')\n",
        "      acc = total_correct_test/len(test_loader.dataset)\n",
        "\n",
        "      wandb.log({\"Test Acc\":acc, \"Test ROC AUC\":roc_auc })\n",
        "      return roc_auc, acc\n",
        "  #Load best performing model\n",
        "  model.load_state_dict(torch.load(model_save_location))\n",
        "  test_roc, test_acc = test(test_loader, model, device)\n",
        "  wandb.finish()"
      ],
      "metadata": {
        "id": "Gxubnrq507ZS"
      },
      "execution_count": 9,
      "outputs": []
    },
    {
      "cell_type": "code",
      "source": [
        "#Train on variable lengths of data, also swtiching between pretrained and random init models\n",
        "\n",
        "#percent of data to train on\n",
        "training_percentage = [.05, .15, .30, .50, .70, 1]\n",
        "for percentage in training_percentage:\n",
        "\n",
        "  config['data amount'] = percentage\n",
        "\n",
        "  #adjusting training data based off of percentage \n",
        "  total_training_samples = int(percentage * len(training_dataset))\n",
        "  print(\"training with: \", total_training_samples)\n",
        "  new_training_dataset = torch.utils.data.Subset(training_dataset, list(range(total_training_samples)))\n",
        "\n",
        "  training_loader = torch.utils.data.DataLoader(new_training_dataset,\n",
        "                                                    batch_size = config['batch size'],\n",
        "                                                    shuffle = True,\n",
        "                                                    num_workers = 1,\n",
        "                                                    pin_memory = True)\n",
        "\n",
        "  #for each percentage we must train both the pretrained model as well as the randomly init model\n",
        "  for i in range(2):\n",
        "    \n",
        "    #load random init model for i == 0 \n",
        "    if i == 0:\n",
        "      config['Pretrained'] = False\n",
        "      model, optimizer, scheduler = model_creator(config['Pretrained'])\n",
        "      \n",
        "    #Otherwise load pretrained model\n",
        "    elif i == 1:\n",
        "      pretrained_save_path = '/content/drive/MyDrive/transfer_learning_audio_to_image/saves/.87 .001 lr/resent_audio_pretrained'\n",
        "      config['Pretrained'] = True\n",
        "      model, optimizer, scheduler = model_creator(config['Pretrained'], pretrained_save_path)\n",
        "      \n",
        "    model.to(device)\n",
        "    model_save_location = '/content/drive/MyDrive/transfer_learning_audio_to_image/saves/resent50_caltech'+ str(percentage) + str(config['Pretrained'])\n",
        "\n",
        "    #Training and Testing\n",
        "    run_name = 'pretrained_'+ str(percentage) if config['Pretrained'] == True else 'random_init_'+ str(percentage)\n",
        "    train_validate_test(model, training_loader, validation_loader, optimizer, loss_function, config['epochs'], device,scheduler, config,model_save_location, test_loader, run_name)"
      ],
      "metadata": {
        "colab": {
          "base_uri": "https://localhost:8080/",
          "height": 1000,
          "referenced_widgets": [
            "b9fa8cc700624be69abd2fa394fcb69d",
            "15bf5fa5089043e7aac40fe80a456ad5",
            "616bb47c17434a3791045ea497f1db59",
            "866079f6335643cca804212209c72cd1",
            "1b1cccf24a7146cb94d09798df5635b3",
            "5cd13fadab314eda92d789aa07917b37",
            "d36f74f07eaa421182c6b59e013e3d38",
            "6c3dba016e6a41bcb71871bb71ae0c23",
            "58cd20c073d149fb887b4760f033b598",
            "4181524ed1154987ba674231e9978ba3",
            "d4bf77140629427e93aa1e407b0c8b94",
            "0c94125e0cb046d19d0764782d6c97cb",
            "af1f840420304bcfb1e6a90b3b86d5ee",
            "b88877fca6934afcb9fb8db1a2e9fca2",
            "f77f4b16251540aaa5bf53d9b4e79de8",
            "d89e33f59a0c4c189b14ba6607d526d4",
            "78efbf06a6274cbeb7aefb80553df8b4",
            "9ca0db0d0e1f413bb25011601d96d74b",
            "48a1225ebbfc4fc9b63e6737afddcf1f",
            "a5be901dcf1c4d5db1b1d9d958979695",
            "6987171815504893a94c2b5065f2833e",
            "afd1399e9f1c49a9884d9d492e0d4c99",
            "7bc474483a3c4116ab62813a13039c19",
            "cd8aef4c516a4f22bdc1e0c649af83d0",
            "99acbb25dcd144069ceeaa2ca2d8f553",
            "9c7754ac62d44fbbabfd677e6f624d57",
            "71b14e53730b4ff094199e3ef0834ac8",
            "35bc524ce1e54a1fb69fa2433c9f75e1",
            "17cb7ea0d51340b0b9fb3137cbd8e1d6",
            "43d001f89dfd4ff19cc3879783ae7515",
            "a33659429dca49ec820f4d5dbffc0628",
            "32ae42f621ce4187ae43baf3b1df9c40"
          ]
        },
        "id": "FhLr1ssq3AAW",
        "outputId": "e1d62df3-be74-4a4f-d0f8-7eea67c78423"
      },
      "execution_count": 10,
      "outputs": [
        {
          "output_type": "stream",
          "name": "stdout",
          "text": [
            "training with:  918\n",
            "random init\n"
          ]
        },
        {
          "output_type": "stream",
          "name": "stderr",
          "text": [
            "Using cache found in /root/.cache/torch/hub/pytorch_vision_v0.10.0\n",
            "/usr/local/lib/python3.9/dist-packages/torchvision/models/_utils.py:208: UserWarning: The parameter 'pretrained' is deprecated since 0.13 and may be removed in the future, please use 'weights' instead.\n",
            "  warnings.warn(\n",
            "/usr/local/lib/python3.9/dist-packages/torchvision/models/_utils.py:223: UserWarning: Arguments other than a weight enum or `None` for 'weights' are deprecated since 0.13 and may be removed in the future. The current behavior is equivalent to passing `weights=None`.\n",
            "  warnings.warn(msg)\n"
          ]
        },
        {
          "output_type": "display_data",
          "data": {
            "text/plain": [
              "<IPython.core.display.HTML object>"
            ],
            "text/html": [
              "Tracking run with wandb version 0.14.0"
            ]
          },
          "metadata": {}
        },
        {
          "output_type": "display_data",
          "data": {
            "text/plain": [
              "<IPython.core.display.HTML object>"
            ],
            "text/html": [
              "Run data is saved locally in <code>/content/wandb/run-20230317_162737-oisciz3b</code>"
            ]
          },
          "metadata": {}
        },
        {
          "output_type": "display_data",
          "data": {
            "text/plain": [
              "<IPython.core.display.HTML object>"
            ],
            "text/html": [
              "Syncing run <strong><a href='https://wandb.ai/nicholasmagal/resnet_pretrained_caltech_run_frozen_weights/runs/oisciz3b' target=\"_blank\">random_init_0.05</a></strong> to <a href='https://wandb.ai/nicholasmagal/resnet_pretrained_caltech_run_frozen_weights' target=\"_blank\">Weights & Biases</a> (<a href='https://wandb.me/run' target=\"_blank\">docs</a>)<br/>"
            ]
          },
          "metadata": {}
        },
        {
          "output_type": "display_data",
          "data": {
            "text/plain": [
              "<IPython.core.display.HTML object>"
            ],
            "text/html": [
              " View project at <a href='https://wandb.ai/nicholasmagal/resnet_pretrained_caltech_run_frozen_weights' target=\"_blank\">https://wandb.ai/nicholasmagal/resnet_pretrained_caltech_run_frozen_weights</a>"
            ]
          },
          "metadata": {}
        },
        {
          "output_type": "display_data",
          "data": {
            "text/plain": [
              "<IPython.core.display.HTML object>"
            ],
            "text/html": [
              " View run at <a href='https://wandb.ai/nicholasmagal/resnet_pretrained_caltech_run_frozen_weights/runs/oisciz3b' target=\"_blank\">https://wandb.ai/nicholasmagal/resnet_pretrained_caltech_run_frozen_weights/runs/oisciz3b</a>"
            ]
          },
          "metadata": {}
        },
        {
          "output_type": "stream",
          "name": "stdout",
          "text": [
            "Epoch: 0 Train Loss: 0.0245 Val Loss: 0.0647 Train Acc: 0.0251 Val Accuracy: 0.0033 Val ROC AUC 0.5040\n",
            "Epoch Runtime 0:01:32.270293\n",
            "saving model\n",
            "Epoch: 1 Train Loss: 0.0218 Val Loss: 0.1085 Train Acc: 0.0566 Val Accuracy: 0.0036 Val ROC AUC 0.5069\n",
            "Epoch Runtime 0:01:28.402468\n",
            "saving model\n",
            "Epoch: 2 Train Loss: 0.0200 Val Loss: 0.0690 Train Acc: 0.0937 Val Accuracy: 0.0060 Val ROC AUC 0.5211\n",
            "Epoch Runtime 0:01:27.442258\n",
            "saving model\n",
            "Epoch: 3 Train Loss: 0.0187 Val Loss: 0.0625 Train Acc: 0.1133 Val Accuracy: 0.0109 Val ROC AUC 0.5227\n",
            "Epoch Runtime 0:01:27.488540\n",
            "saving model\n",
            "Epoch: 4 Train Loss: 0.0174 Val Loss: 0.0344 Train Acc: 0.1242 Val Accuracy: 0.0206 Val ROC AUC 0.5754\n",
            "Epoch Runtime 0:01:27.285986\n",
            "saving model\n",
            "Epoch: 5 Train Loss: 0.0162 Val Loss: 0.0342 Train Acc: 0.1863 Val Accuracy: 0.0209 Val ROC AUC 0.5859\n",
            "Epoch Runtime 0:01:28.470978\n",
            "saving model\n",
            "Epoch: 6 Train Loss: 0.0151 Val Loss: 0.0281 Train Acc: 0.2070 Val Accuracy: 0.0356 Val ROC AUC 0.6273\n",
            "Epoch Runtime 0:01:27.137735\n",
            "saving model\n",
            "Epoch: 7 Train Loss: 0.0139 Val Loss: 0.0245 Train Acc: 0.2603 Val Accuracy: 0.0567 Val ROC AUC 0.6540\n",
            "Epoch Runtime 0:01:27.278897\n",
            "saving model\n",
            "Epoch: 8 Train Loss: 0.0136 Val Loss: 0.0233 Train Acc: 0.2800 Val Accuracy: 0.0784 Val ROC AUC 0.6648\n",
            "Epoch Runtime 0:01:26.978258\n",
            "saving model\n",
            "Epoch: 9 Train Loss: 0.0133 Val Loss: 0.0225 Train Acc: 0.2974 Val Accuracy: 0.0917 Val ROC AUC 0.6735\n",
            "Epoch Runtime 0:01:27.828003\n",
            "saving model\n",
            "Epoch: 10 Train Loss: 0.0130 Val Loss: 0.0222 Train Acc: 0.3050 Val Accuracy: 0.0956 Val ROC AUC 0.6765\n",
            "Epoch Runtime 0:01:28.134576\n",
            "saving model\n",
            "Epoch: 11 Train Loss: 0.0129 Val Loss: 0.0221 Train Acc: 0.3126 Val Accuracy: 0.0931 Val ROC AUC 0.6786\n",
            "Epoch Runtime 0:01:27.377648\n",
            "Epoch: 12 Train Loss: 0.0126 Val Loss: 0.0221 Train Acc: 0.3312 Val Accuracy: 0.0969 Val ROC AUC 0.6795\n",
            "Epoch Runtime 0:01:26.851984\n",
            "saving model\n",
            "Epoch: 13 Train Loss: 0.0126 Val Loss: 0.0221 Train Acc: 0.3312 Val Accuracy: 0.0975 Val ROC AUC 0.6806\n",
            "Epoch Runtime 0:01:26.544732\n",
            "saving model\n",
            "Epoch: 14 Train Loss: 0.0126 Val Loss: 0.0221 Train Acc: 0.3322 Val Accuracy: 0.0995 Val ROC AUC 0.6804\n",
            "Epoch Runtime 0:01:27.294186\n",
            "saving model\n"
          ]
        },
        {
          "output_type": "display_data",
          "data": {
            "text/plain": [
              "<IPython.core.display.HTML object>"
            ],
            "text/html": [
              "Waiting for W&B process to finish... <strong style=\"color:green\">(success).</strong>"
            ]
          },
          "metadata": {}
        },
        {
          "output_type": "display_data",
          "data": {
            "text/plain": [
              "VBox(children=(Label(value='0.001 MB of 0.009 MB uploaded (0.000 MB deduped)\\r'), FloatProgress(value=0.091719…"
            ],
            "application/vnd.jupyter.widget-view+json": {
              "version_major": 2,
              "version_minor": 0,
              "model_id": "b9fa8cc700624be69abd2fa394fcb69d"
            }
          },
          "metadata": {}
        },
        {
          "output_type": "display_data",
          "data": {
            "text/plain": [
              "<IPython.core.display.HTML object>"
            ],
            "text/html": [
              "<style>\n",
              "    table.wandb td:nth-child(1) { padding: 0 10px; text-align: left ; width: auto;} td:nth-child(2) {text-align: left ; width: 100%}\n",
              "    .wandb-row { display: flex; flex-direction: row; flex-wrap: wrap; justify-content: flex-start; width: 100% }\n",
              "    .wandb-col { display: flex; flex-direction: column; flex-basis: 100%; flex: 1; padding: 10px; }\n",
              "    </style>\n",
              "<div class=\"wandb-row\"><div class=\"wandb-col\"><h3>Run history:</h3><br/><table class=\"wandb\"><tr><td>Test Acc</td><td>▁</td></tr><tr><td>Test ROC AUC</td><td>▁</td></tr><tr><td>Training Average Loss</td><td>█▆▅▅▄▃▂▂▂▁▁▁▁▁▁</td></tr><tr><td>Training Avg Acc</td><td>▁▂▃▃▃▅▅▆▇▇▇████</td></tr><tr><td>Val Avg Acc</td><td>▁▁▁▂▂▂▃▅▆▇█████</td></tr><tr><td>Val Avg Loss</td><td>▄█▅▄▂▂▁▁▁▁▁▁▁▁▁</td></tr><tr><td>Val ROC AUC</td><td>▁▁▂▂▄▄▆▇▇██████</td></tr></table><br/></div><div class=\"wandb-col\"><h3>Run summary:</h3><br/><table class=\"wandb\"><tr><td>Test Acc</td><td>0.09982</td></tr><tr><td>Test ROC AUC</td><td>0.68265</td></tr><tr><td>Training Average Loss</td><td>0.01256</td></tr><tr><td>Training Avg Acc</td><td>0.33224</td></tr><tr><td>Val Avg Acc</td><td>0.09949</td></tr><tr><td>Val Avg Loss</td><td>0.02212</td></tr><tr><td>Val ROC AUC</td><td>0.68044</td></tr></table><br/></div></div>"
            ]
          },
          "metadata": {}
        },
        {
          "output_type": "display_data",
          "data": {
            "text/plain": [
              "<IPython.core.display.HTML object>"
            ],
            "text/html": [
              " View run <strong style=\"color:#cdcd00\">random_init_0.05</strong> at: <a href='https://wandb.ai/nicholasmagal/resnet_pretrained_caltech_run_frozen_weights/runs/oisciz3b' target=\"_blank\">https://wandb.ai/nicholasmagal/resnet_pretrained_caltech_run_frozen_weights/runs/oisciz3b</a><br/>Synced 5 W&B file(s), 0 media file(s), 0 artifact file(s) and 0 other file(s)"
            ]
          },
          "metadata": {}
        },
        {
          "output_type": "display_data",
          "data": {
            "text/plain": [
              "<IPython.core.display.HTML object>"
            ],
            "text/html": [
              "Find logs at: <code>./wandb/run-20230317_162737-oisciz3b/logs</code>"
            ]
          },
          "metadata": {}
        },
        {
          "output_type": "stream",
          "name": "stderr",
          "text": [
            "Using cache found in /root/.cache/torch/hub/pytorch_vision_v0.10.0\n",
            "/usr/local/lib/python3.9/dist-packages/torchvision/models/_utils.py:208: UserWarning: The parameter 'pretrained' is deprecated since 0.13 and may be removed in the future, please use 'weights' instead.\n",
            "  warnings.warn(\n",
            "/usr/local/lib/python3.9/dist-packages/torchvision/models/_utils.py:223: UserWarning: Arguments other than a weight enum or `None` for 'weights' are deprecated since 0.13 and may be removed in the future. The current behavior is equivalent to passing `weights=None`.\n",
            "  warnings.warn(msg)\n"
          ]
        },
        {
          "output_type": "stream",
          "name": "stdout",
          "text": [
            "loaded pretrained\n"
          ]
        },
        {
          "output_type": "display_data",
          "data": {
            "text/plain": [
              "<IPython.core.display.HTML object>"
            ],
            "text/html": [
              "Tracking run with wandb version 0.14.0"
            ]
          },
          "metadata": {}
        },
        {
          "output_type": "display_data",
          "data": {
            "text/plain": [
              "<IPython.core.display.HTML object>"
            ],
            "text/html": [
              "Run data is saved locally in <code>/content/wandb/run-20230317_165103-bscfkl5p</code>"
            ]
          },
          "metadata": {}
        },
        {
          "output_type": "display_data",
          "data": {
            "text/plain": [
              "<IPython.core.display.HTML object>"
            ],
            "text/html": [
              "Syncing run <strong><a href='https://wandb.ai/nicholasmagal/resnet_pretrained_caltech_run_frozen_weights/runs/bscfkl5p' target=\"_blank\">pretrained_0.05</a></strong> to <a href='https://wandb.ai/nicholasmagal/resnet_pretrained_caltech_run_frozen_weights' target=\"_blank\">Weights & Biases</a> (<a href='https://wandb.me/run' target=\"_blank\">docs</a>)<br/>"
            ]
          },
          "metadata": {}
        },
        {
          "output_type": "display_data",
          "data": {
            "text/plain": [
              "<IPython.core.display.HTML object>"
            ],
            "text/html": [
              " View project at <a href='https://wandb.ai/nicholasmagal/resnet_pretrained_caltech_run_frozen_weights' target=\"_blank\">https://wandb.ai/nicholasmagal/resnet_pretrained_caltech_run_frozen_weights</a>"
            ]
          },
          "metadata": {}
        },
        {
          "output_type": "display_data",
          "data": {
            "text/plain": [
              "<IPython.core.display.HTML object>"
            ],
            "text/html": [
              " View run at <a href='https://wandb.ai/nicholasmagal/resnet_pretrained_caltech_run_frozen_weights/runs/bscfkl5p' target=\"_blank\">https://wandb.ai/nicholasmagal/resnet_pretrained_caltech_run_frozen_weights/runs/bscfkl5p</a>"
            ]
          },
          "metadata": {}
        },
        {
          "output_type": "stream",
          "name": "stdout",
          "text": [
            "Epoch: 0 Train Loss: 0.0242 Val Loss: 0.0228 Train Acc: 0.0174 Val Accuracy: 0.0286 Val ROC AUC 0.5059\n",
            "Epoch Runtime 0:01:27.510542\n",
            "saving model\n",
            "Epoch: 1 Train Loss: 0.0220 Val Loss: 0.0242 Train Acc: 0.0621 Val Accuracy: 0.0286 Val ROC AUC 0.5035\n",
            "Epoch Runtime 0:01:27.828174\n",
            "Epoch: 2 Train Loss: 0.0207 Val Loss: 0.0265 Train Acc: 0.0828 Val Accuracy: 0.0044 Val ROC AUC 0.5057\n",
            "Epoch Runtime 0:01:26.835109\n",
            "Epoch: 3 Train Loss: 0.0197 Val Loss: 0.0389 Train Acc: 0.0959 Val Accuracy: 0.0042 Val ROC AUC 0.5049\n",
            "Epoch Runtime 0:01:29.132073\n",
            "Epoch: 4 Train Loss: 0.0187 Val Loss: 0.0459 Train Acc: 0.1057 Val Accuracy: 0.0042 Val ROC AUC 0.5066\n",
            "Epoch Runtime 0:01:27.873029\n",
            "Epoch: 5 Train Loss: 0.0179 Val Loss: 0.0400 Train Acc: 0.1187 Val Accuracy: 0.0067 Val ROC AUC 0.5294\n",
            "Epoch Runtime 0:01:26.511774\n",
            "Epoch: 6 Train Loss: 0.0172 Val Loss: 0.0427 Train Acc: 0.1394 Val Accuracy: 0.0036 Val ROC AUC 0.5157\n",
            "Epoch Runtime 0:01:26.865115\n",
            "Epoch: 7 Train Loss: 0.0164 Val Loss: 0.0465 Train Acc: 0.1656 Val Accuracy: 0.0059 Val ROC AUC 0.5132\n",
            "Epoch Runtime 0:01:26.873815\n",
            "Epoch: 8 Train Loss: 0.0156 Val Loss: 0.0424 Train Acc: 0.1819 Val Accuracy: 0.0042 Val ROC AUC 0.5161\n",
            "Epoch Runtime 0:01:26.774240\n",
            "Epoch: 9 Train Loss: 0.0150 Val Loss: 0.0397 Train Acc: 0.2081 Val Accuracy: 0.0203 Val ROC AUC 0.5325\n",
            "Epoch Runtime 0:01:26.263683\n",
            "Epoch: 10 Train Loss: 0.0141 Val Loss: 0.0391 Train Acc: 0.2429 Val Accuracy: 0.0131 Val ROC AUC 0.5341\n",
            "Epoch Runtime 0:01:26.836119\n",
            "Epoch: 11 Train Loss: 0.0134 Val Loss: 0.0372 Train Acc: 0.2789 Val Accuracy: 0.0255 Val ROC AUC 0.5423\n",
            "Epoch Runtime 0:01:27.532572\n",
            "Epoch: 12 Train Loss: 0.0129 Val Loss: 0.0383 Train Acc: 0.3072 Val Accuracy: 0.0139 Val ROC AUC 0.5494\n",
            "Epoch Runtime 0:01:26.898958\n",
            "Epoch: 13 Train Loss: 0.0120 Val Loss: 0.0351 Train Acc: 0.3464 Val Accuracy: 0.0217 Val ROC AUC 0.5720\n",
            "Epoch Runtime 0:01:26.696998\n",
            "Epoch: 14 Train Loss: 0.0120 Val Loss: 0.0317 Train Acc: 0.3725 Val Accuracy: 0.0307 Val ROC AUC 0.5960\n",
            "Epoch Runtime 0:01:27.303400\n",
            "saving model\n"
          ]
        },
        {
          "output_type": "display_data",
          "data": {
            "text/plain": [
              "<IPython.core.display.HTML object>"
            ],
            "text/html": [
              "Waiting for W&B process to finish... <strong style=\"color:green\">(success).</strong>"
            ]
          },
          "metadata": {}
        },
        {
          "output_type": "display_data",
          "data": {
            "text/plain": [
              "VBox(children=(Label(value='0.001 MB of 0.001 MB uploaded (0.000 MB deduped)\\r'), FloatProgress(value=1.0, max…"
            ],
            "application/vnd.jupyter.widget-view+json": {
              "version_major": 2,
              "version_minor": 0,
              "model_id": "58cd20c073d149fb887b4760f033b598"
            }
          },
          "metadata": {}
        },
        {
          "output_type": "display_data",
          "data": {
            "text/plain": [
              "<IPython.core.display.HTML object>"
            ],
            "text/html": [
              "<style>\n",
              "    table.wandb td:nth-child(1) { padding: 0 10px; text-align: left ; width: auto;} td:nth-child(2) {text-align: left ; width: 100%}\n",
              "    .wandb-row { display: flex; flex-direction: row; flex-wrap: wrap; justify-content: flex-start; width: 100% }\n",
              "    .wandb-col { display: flex; flex-direction: column; flex-basis: 100%; flex: 1; padding: 10px; }\n",
              "    </style>\n",
              "<div class=\"wandb-row\"><div class=\"wandb-col\"><h3>Run history:</h3><br/><table class=\"wandb\"><tr><td>Test Acc</td><td>▁</td></tr><tr><td>Test ROC AUC</td><td>▁</td></tr><tr><td>Training Average Loss</td><td>█▇▆▅▅▄▄▄▃▃▂▂▂▁▁</td></tr><tr><td>Training Avg Acc</td><td>▁▂▂▃▃▃▃▄▄▅▅▆▇▇█</td></tr><tr><td>Val Avg Acc</td><td>▇▇▁▁▁▂▁▂▁▅▃▇▄▆█</td></tr><tr><td>Val Avg Loss</td><td>▁▁▂▆█▆▇█▇▆▆▅▆▅▄</td></tr><tr><td>Val ROC AUC</td><td>▁▁▁▁▁▃▂▂▂▃▃▄▄▆█</td></tr></table><br/></div><div class=\"wandb-col\"><h3>Run summary:</h3><br/><table class=\"wandb\"><tr><td>Test Acc</td><td>0.03006</td></tr><tr><td>Test ROC AUC</td><td>0.59096</td></tr><tr><td>Training Average Loss</td><td>0.01197</td></tr><tr><td>Training Avg Acc</td><td>0.37255</td></tr><tr><td>Val Avg Acc</td><td>0.03071</td></tr><tr><td>Val Avg Loss</td><td>0.03172</td></tr><tr><td>Val ROC AUC</td><td>0.59604</td></tr></table><br/></div></div>"
            ]
          },
          "metadata": {}
        },
        {
          "output_type": "display_data",
          "data": {
            "text/plain": [
              "<IPython.core.display.HTML object>"
            ],
            "text/html": [
              " View run <strong style=\"color:#cdcd00\">pretrained_0.05</strong> at: <a href='https://wandb.ai/nicholasmagal/resnet_pretrained_caltech_run_frozen_weights/runs/bscfkl5p' target=\"_blank\">https://wandb.ai/nicholasmagal/resnet_pretrained_caltech_run_frozen_weights/runs/bscfkl5p</a><br/>Synced 5 W&B file(s), 0 media file(s), 0 artifact file(s) and 0 other file(s)"
            ]
          },
          "metadata": {}
        },
        {
          "output_type": "display_data",
          "data": {
            "text/plain": [
              "<IPython.core.display.HTML object>"
            ],
            "text/html": [
              "Find logs at: <code>./wandb/run-20230317_165103-bscfkl5p/logs</code>"
            ]
          },
          "metadata": {}
        },
        {
          "output_type": "stream",
          "name": "stdout",
          "text": [
            "training with:  2754\n",
            "random init\n"
          ]
        },
        {
          "output_type": "stream",
          "name": "stderr",
          "text": [
            "Using cache found in /root/.cache/torch/hub/pytorch_vision_v0.10.0\n",
            "/usr/local/lib/python3.9/dist-packages/torchvision/models/_utils.py:208: UserWarning: The parameter 'pretrained' is deprecated since 0.13 and may be removed in the future, please use 'weights' instead.\n",
            "  warnings.warn(\n",
            "/usr/local/lib/python3.9/dist-packages/torchvision/models/_utils.py:223: UserWarning: Arguments other than a weight enum or `None` for 'weights' are deprecated since 0.13 and may be removed in the future. The current behavior is equivalent to passing `weights=None`.\n",
            "  warnings.warn(msg)\n"
          ]
        },
        {
          "output_type": "display_data",
          "data": {
            "text/plain": [
              "<IPython.core.display.HTML object>"
            ],
            "text/html": [
              "Tracking run with wandb version 0.14.0"
            ]
          },
          "metadata": {}
        },
        {
          "output_type": "display_data",
          "data": {
            "text/plain": [
              "<IPython.core.display.HTML object>"
            ],
            "text/html": [
              "Run data is saved locally in <code>/content/wandb/run-20230317_171417-0xehn21r</code>"
            ]
          },
          "metadata": {}
        },
        {
          "output_type": "display_data",
          "data": {
            "text/plain": [
              "<IPython.core.display.HTML object>"
            ],
            "text/html": [
              "Syncing run <strong><a href='https://wandb.ai/nicholasmagal/resnet_pretrained_caltech_run_frozen_weights/runs/0xehn21r' target=\"_blank\">random_init_0.15</a></strong> to <a href='https://wandb.ai/nicholasmagal/resnet_pretrained_caltech_run_frozen_weights' target=\"_blank\">Weights & Biases</a> (<a href='https://wandb.me/run' target=\"_blank\">docs</a>)<br/>"
            ]
          },
          "metadata": {}
        },
        {
          "output_type": "display_data",
          "data": {
            "text/plain": [
              "<IPython.core.display.HTML object>"
            ],
            "text/html": [
              " View project at <a href='https://wandb.ai/nicholasmagal/resnet_pretrained_caltech_run_frozen_weights' target=\"_blank\">https://wandb.ai/nicholasmagal/resnet_pretrained_caltech_run_frozen_weights</a>"
            ]
          },
          "metadata": {}
        },
        {
          "output_type": "display_data",
          "data": {
            "text/plain": [
              "<IPython.core.display.HTML object>"
            ],
            "text/html": [
              " View run at <a href='https://wandb.ai/nicholasmagal/resnet_pretrained_caltech_run_frozen_weights/runs/0xehn21r' target=\"_blank\">https://wandb.ai/nicholasmagal/resnet_pretrained_caltech_run_frozen_weights/runs/0xehn21r</a>"
            ]
          },
          "metadata": {}
        },
        {
          "output_type": "stream",
          "name": "stdout",
          "text": [
            "Epoch: 0 Train Loss: 0.0218 Val Loss: 0.1020 Train Acc: 0.0410 Val Accuracy: 0.0103 Val ROC AUC 0.5088\n",
            "Epoch Runtime 0:01:40.832896\n",
            "saving model\n",
            "Epoch: 1 Train Loss: 0.0198 Val Loss: 0.0498 Train Acc: 0.0817 Val Accuracy: 0.0181 Val ROC AUC 0.5386\n",
            "Epoch Runtime 0:01:39.876987\n",
            "saving model\n",
            "Epoch: 2 Train Loss: 0.0183 Val Loss: 0.0224 Train Acc: 0.0966 Val Accuracy: 0.0626 Val ROC AUC 0.6974\n",
            "Epoch Runtime 0:01:41.608141\n",
            "saving model\n",
            "Epoch: 3 Train Loss: 0.0174 Val Loss: 0.0220 Train Acc: 0.1184 Val Accuracy: 0.0804 Val ROC AUC 0.6993\n",
            "Epoch Runtime 0:01:41.297820\n",
            "saving model\n",
            "Epoch: 4 Train Loss: 0.0166 Val Loss: 0.0200 Train Acc: 0.1314 Val Accuracy: 0.0992 Val ROC AUC 0.7379\n",
            "Epoch Runtime 0:01:40.776637\n",
            "saving model\n",
            "Epoch: 5 Train Loss: 0.0159 Val Loss: 0.0217 Train Acc: 0.1569 Val Accuracy: 0.0993 Val ROC AUC 0.7181\n",
            "Epoch Runtime 0:01:40.240011\n",
            "saving model\n",
            "Epoch: 6 Train Loss: 0.0145 Val Loss: 0.0188 Train Acc: 0.2023 Val Accuracy: 0.1377 Val ROC AUC 0.7654\n",
            "Epoch Runtime 0:01:39.596462\n",
            "saving model\n",
            "Epoch: 7 Train Loss: 0.0140 Val Loss: 0.0186 Train Acc: 0.2259 Val Accuracy: 0.1379 Val ROC AUC 0.7696\n",
            "Epoch Runtime 0:01:41.030788\n",
            "saving model\n",
            "Epoch: 8 Train Loss: 0.0137 Val Loss: 0.0185 Train Acc: 0.2422 Val Accuracy: 0.1412 Val ROC AUC 0.7723\n",
            "Epoch Runtime 0:01:40.536638\n",
            "saving model\n",
            "Epoch: 9 Train Loss: 0.0135 Val Loss: 0.0184 Train Acc: 0.2556 Val Accuracy: 0.1415 Val ROC AUC 0.7731\n",
            "Epoch Runtime 0:01:40.318153\n",
            "saving model\n",
            "Epoch: 10 Train Loss: 0.0134 Val Loss: 0.0184 Train Acc: 0.2676 Val Accuracy: 0.1479 Val ROC AUC 0.7752\n",
            "Epoch Runtime 0:01:39.819969\n",
            "saving model\n",
            "Epoch: 11 Train Loss: 0.0131 Val Loss: 0.0184 Train Acc: 0.2727 Val Accuracy: 0.1449 Val ROC AUC 0.7763\n",
            "Epoch Runtime 0:01:40.882210\n",
            "Epoch: 12 Train Loss: 0.0131 Val Loss: 0.0184 Train Acc: 0.2789 Val Accuracy: 0.1470 Val ROC AUC 0.7767\n",
            "Epoch Runtime 0:01:40.735674\n",
            "Epoch: 13 Train Loss: 0.0130 Val Loss: 0.0184 Train Acc: 0.2752 Val Accuracy: 0.1488 Val ROC AUC 0.7768\n",
            "Epoch Runtime 0:01:40.670418\n",
            "saving model\n",
            "Epoch: 14 Train Loss: 0.0130 Val Loss: 0.0184 Train Acc: 0.2796 Val Accuracy: 0.1436 Val ROC AUC 0.7766\n",
            "Epoch Runtime 0:01:40.341057\n"
          ]
        },
        {
          "output_type": "display_data",
          "data": {
            "text/plain": [
              "<IPython.core.display.HTML object>"
            ],
            "text/html": [
              "Waiting for W&B process to finish... <strong style=\"color:green\">(success).</strong>"
            ]
          },
          "metadata": {}
        },
        {
          "output_type": "display_data",
          "data": {
            "text/plain": [
              "<IPython.core.display.HTML object>"
            ],
            "text/html": [
              "<style>\n",
              "    table.wandb td:nth-child(1) { padding: 0 10px; text-align: left ; width: auto;} td:nth-child(2) {text-align: left ; width: 100%}\n",
              "    .wandb-row { display: flex; flex-direction: row; flex-wrap: wrap; justify-content: flex-start; width: 100% }\n",
              "    .wandb-col { display: flex; flex-direction: column; flex-basis: 100%; flex: 1; padding: 10px; }\n",
              "    </style>\n",
              "<div class=\"wandb-row\"><div class=\"wandb-col\"><h3>Run history:</h3><br/><table class=\"wandb\"><tr><td>Test Acc</td><td>▁</td></tr><tr><td>Test ROC AUC</td><td>▁</td></tr><tr><td>Training Average Loss</td><td>█▆▅▄▄▃▂▂▂▁▁▁▁▁▁</td></tr><tr><td>Training Avg Acc</td><td>▁▂▃▃▄▄▆▆▇▇█████</td></tr><tr><td>Val Avg Acc</td><td>▁▁▄▅▅▅▇▇███████</td></tr><tr><td>Val Avg Loss</td><td>█▄▁▁▁▁▁▁▁▁▁▁▁▁▁</td></tr><tr><td>Val ROC AUC</td><td>▁▂▆▆▇▆█████████</td></tr></table><br/></div><div class=\"wandb-col\"><h3>Run summary:</h3><br/><table class=\"wandb\"><tr><td>Test Acc</td><td>0.14818</td></tr><tr><td>Test ROC AUC</td><td>0.78404</td></tr><tr><td>Training Average Loss</td><td>0.01301</td></tr><tr><td>Training Avg Acc</td><td>0.27959</td></tr><tr><td>Val Avg Acc</td><td>0.1436</td></tr><tr><td>Val Avg Loss</td><td>0.01836</td></tr><tr><td>Val ROC AUC</td><td>0.77663</td></tr></table><br/></div></div>"
            ]
          },
          "metadata": {}
        },
        {
          "output_type": "display_data",
          "data": {
            "text/plain": [
              "<IPython.core.display.HTML object>"
            ],
            "text/html": [
              " View run <strong style=\"color:#cdcd00\">random_init_0.15</strong> at: <a href='https://wandb.ai/nicholasmagal/resnet_pretrained_caltech_run_frozen_weights/runs/0xehn21r' target=\"_blank\">https://wandb.ai/nicholasmagal/resnet_pretrained_caltech_run_frozen_weights/runs/0xehn21r</a><br/>Synced 5 W&B file(s), 0 media file(s), 0 artifact file(s) and 0 other file(s)"
            ]
          },
          "metadata": {}
        },
        {
          "output_type": "display_data",
          "data": {
            "text/plain": [
              "<IPython.core.display.HTML object>"
            ],
            "text/html": [
              "Find logs at: <code>./wandb/run-20230317_171417-0xehn21r/logs</code>"
            ]
          },
          "metadata": {}
        },
        {
          "output_type": "stream",
          "name": "stderr",
          "text": [
            "Using cache found in /root/.cache/torch/hub/pytorch_vision_v0.10.0\n",
            "/usr/local/lib/python3.9/dist-packages/torchvision/models/_utils.py:208: UserWarning: The parameter 'pretrained' is deprecated since 0.13 and may be removed in the future, please use 'weights' instead.\n",
            "  warnings.warn(\n",
            "/usr/local/lib/python3.9/dist-packages/torchvision/models/_utils.py:223: UserWarning: Arguments other than a weight enum or `None` for 'weights' are deprecated since 0.13 and may be removed in the future. The current behavior is equivalent to passing `weights=None`.\n",
            "  warnings.warn(msg)\n"
          ]
        },
        {
          "output_type": "stream",
          "name": "stdout",
          "text": [
            "loaded pretrained\n"
          ]
        },
        {
          "output_type": "display_data",
          "data": {
            "text/plain": [
              "<IPython.core.display.HTML object>"
            ],
            "text/html": [
              "Tracking run with wandb version 0.14.0"
            ]
          },
          "metadata": {}
        },
        {
          "output_type": "display_data",
          "data": {
            "text/plain": [
              "<IPython.core.display.HTML object>"
            ],
            "text/html": [
              "Run data is saved locally in <code>/content/wandb/run-20230317_174054-5j2u3od7</code>"
            ]
          },
          "metadata": {}
        },
        {
          "output_type": "display_data",
          "data": {
            "text/plain": [
              "<IPython.core.display.HTML object>"
            ],
            "text/html": [
              "Syncing run <strong><a href='https://wandb.ai/nicholasmagal/resnet_pretrained_caltech_run_frozen_weights/runs/5j2u3od7' target=\"_blank\">pretrained_0.15</a></strong> to <a href='https://wandb.ai/nicholasmagal/resnet_pretrained_caltech_run_frozen_weights' target=\"_blank\">Weights & Biases</a> (<a href='https://wandb.me/run' target=\"_blank\">docs</a>)<br/>"
            ]
          },
          "metadata": {}
        },
        {
          "output_type": "display_data",
          "data": {
            "text/plain": [
              "<IPython.core.display.HTML object>"
            ],
            "text/html": [
              " View project at <a href='https://wandb.ai/nicholasmagal/resnet_pretrained_caltech_run_frozen_weights' target=\"_blank\">https://wandb.ai/nicholasmagal/resnet_pretrained_caltech_run_frozen_weights</a>"
            ]
          },
          "metadata": {}
        },
        {
          "output_type": "display_data",
          "data": {
            "text/plain": [
              "<IPython.core.display.HTML object>"
            ],
            "text/html": [
              " View run at <a href='https://wandb.ai/nicholasmagal/resnet_pretrained_caltech_run_frozen_weights/runs/5j2u3od7' target=\"_blank\">https://wandb.ai/nicholasmagal/resnet_pretrained_caltech_run_frozen_weights/runs/5j2u3od7</a>"
            ]
          },
          "metadata": {}
        },
        {
          "output_type": "stream",
          "name": "stdout",
          "text": [
            "Epoch: 0 Train Loss: 0.0218 Val Loss: 0.0235 Train Acc: 0.0367 Val Accuracy: 0.0325 Val ROC AUC 0.5069\n",
            "Epoch Runtime 0:01:39.295399\n",
            "saving model\n",
            "Epoch: 1 Train Loss: 0.0199 Val Loss: 0.0297 Train Acc: 0.0694 Val Accuracy: 0.0286 Val ROC AUC 0.5086\n",
            "Epoch Runtime 0:01:40.742706\n",
            "Epoch: 2 Train Loss: 0.0187 Val Loss: 0.0384 Train Acc: 0.0879 Val Accuracy: 0.0286 Val ROC AUC 0.5151\n",
            "Epoch Runtime 0:01:37.704669\n",
            "Epoch: 3 Train Loss: 0.0179 Val Loss: 0.0304 Train Acc: 0.1031 Val Accuracy: 0.0149 Val ROC AUC 0.5499\n",
            "Epoch Runtime 0:01:39.595209\n",
            "Epoch: 4 Train Loss: 0.0170 Val Loss: 0.0276 Train Acc: 0.1365 Val Accuracy: 0.0350 Val ROC AUC 0.5870\n",
            "Epoch Runtime 0:01:39.719196\n",
            "saving model\n",
            "Epoch: 5 Train Loss: 0.0163 Val Loss: 0.0223 Train Acc: 0.1496 Val Accuracy: 0.0467 Val ROC AUC 0.6625\n",
            "Epoch Runtime 0:01:38.646200\n",
            "saving model\n",
            "Epoch: 6 Train Loss: 0.0155 Val Loss: 0.0203 Train Acc: 0.1721 Val Accuracy: 0.0778 Val ROC AUC 0.7250\n",
            "Epoch Runtime 0:01:38.684580\n",
            "saving model\n",
            "Epoch: 7 Train Loss: 0.0149 Val Loss: 0.0193 Train Acc: 0.1906 Val Accuracy: 0.1080 Val ROC AUC 0.7576\n",
            "Epoch Runtime 0:01:39.718976\n",
            "saving model\n",
            "Epoch: 8 Train Loss: 0.0139 Val Loss: 0.0184 Train Acc: 0.2313 Val Accuracy: 0.1338 Val ROC AUC 0.7802\n",
            "Epoch Runtime 0:01:39.528678\n",
            "saving model\n",
            "Epoch: 9 Train Loss: 0.0137 Val Loss: 0.0183 Train Acc: 0.2516 Val Accuracy: 0.1400 Val ROC AUC 0.7804\n",
            "Epoch Runtime 0:01:38.369708\n",
            "saving model\n",
            "Epoch: 10 Train Loss: 0.0136 Val Loss: 0.0183 Train Acc: 0.2509 Val Accuracy: 0.1385 Val ROC AUC 0.7816\n",
            "Epoch Runtime 0:01:39.537832\n",
            "Epoch: 11 Train Loss: 0.0134 Val Loss: 0.0182 Train Acc: 0.2600 Val Accuracy: 0.1416 Val ROC AUC 0.7829\n",
            "Epoch Runtime 0:01:39.169867\n",
            "saving model\n",
            "Epoch: 12 Train Loss: 0.0132 Val Loss: 0.0182 Train Acc: 0.2716 Val Accuracy: 0.1456 Val ROC AUC 0.7841\n",
            "Epoch Runtime 0:01:37.911518\n",
            "saving model\n",
            "Epoch: 13 Train Loss: 0.0132 Val Loss: 0.0182 Train Acc: 0.2745 Val Accuracy: 0.1434 Val ROC AUC 0.7835\n",
            "Epoch Runtime 0:01:39.949404\n",
            "Epoch: 14 Train Loss: 0.0131 Val Loss: 0.0183 Train Acc: 0.2763 Val Accuracy: 0.1434 Val ROC AUC 0.7829\n",
            "Epoch Runtime 0:01:39.135839\n"
          ]
        },
        {
          "output_type": "display_data",
          "data": {
            "text/plain": [
              "<IPython.core.display.HTML object>"
            ],
            "text/html": [
              "Waiting for W&B process to finish... <strong style=\"color:green\">(success).</strong>"
            ]
          },
          "metadata": {}
        },
        {
          "output_type": "display_data",
          "data": {
            "text/plain": [
              "VBox(children=(Label(value='0.001 MB of 0.001 MB uploaded (0.000 MB deduped)\\r'), FloatProgress(value=1.0, max…"
            ],
            "application/vnd.jupyter.widget-view+json": {
              "version_major": 2,
              "version_minor": 0,
              "model_id": "78efbf06a6274cbeb7aefb80553df8b4"
            }
          },
          "metadata": {}
        },
        {
          "output_type": "display_data",
          "data": {
            "text/plain": [
              "<IPython.core.display.HTML object>"
            ],
            "text/html": [
              "<style>\n",
              "    table.wandb td:nth-child(1) { padding: 0 10px; text-align: left ; width: auto;} td:nth-child(2) {text-align: left ; width: 100%}\n",
              "    .wandb-row { display: flex; flex-direction: row; flex-wrap: wrap; justify-content: flex-start; width: 100% }\n",
              "    .wandb-col { display: flex; flex-direction: column; flex-basis: 100%; flex: 1; padding: 10px; }\n",
              "    </style>\n",
              "<div class=\"wandb-row\"><div class=\"wandb-col\"><h3>Run history:</h3><br/><table class=\"wandb\"><tr><td>Test Acc</td><td>▁</td></tr><tr><td>Test ROC AUC</td><td>▁</td></tr><tr><td>Training Average Loss</td><td>█▆▆▅▄▄▃▂▂▁▁▁▁▁▁</td></tr><tr><td>Training Avg Acc</td><td>▁▂▂▃▄▄▅▅▇▇▇████</td></tr><tr><td>Val Avg Acc</td><td>▂▂▂▁▂▃▄▆▇██████</td></tr><tr><td>Val Avg Loss</td><td>▃▅█▅▄▂▂▁▁▁▁▁▁▁▁</td></tr><tr><td>Val ROC AUC</td><td>▁▁▁▂▃▅▇▇███████</td></tr></table><br/></div><div class=\"wandb-col\"><h3>Run summary:</h3><br/><table class=\"wandb\"><tr><td>Test Acc</td><td>0.14573</td></tr><tr><td>Test ROC AUC</td><td>0.78741</td></tr><tr><td>Training Average Loss</td><td>0.01314</td></tr><tr><td>Training Avg Acc</td><td>0.27633</td></tr><tr><td>Val Avg Acc</td><td>0.14344</td></tr><tr><td>Val Avg Loss</td><td>0.01825</td></tr><tr><td>Val ROC AUC</td><td>0.78293</td></tr></table><br/></div></div>"
            ]
          },
          "metadata": {}
        },
        {
          "output_type": "display_data",
          "data": {
            "text/plain": [
              "<IPython.core.display.HTML object>"
            ],
            "text/html": [
              " View run <strong style=\"color:#cdcd00\">pretrained_0.15</strong> at: <a href='https://wandb.ai/nicholasmagal/resnet_pretrained_caltech_run_frozen_weights/runs/5j2u3od7' target=\"_blank\">https://wandb.ai/nicholasmagal/resnet_pretrained_caltech_run_frozen_weights/runs/5j2u3od7</a><br/>Synced 5 W&B file(s), 0 media file(s), 0 artifact file(s) and 0 other file(s)"
            ]
          },
          "metadata": {}
        },
        {
          "output_type": "display_data",
          "data": {
            "text/plain": [
              "<IPython.core.display.HTML object>"
            ],
            "text/html": [
              "Find logs at: <code>./wandb/run-20230317_174054-5j2u3od7/logs</code>"
            ]
          },
          "metadata": {}
        },
        {
          "output_type": "stream",
          "name": "stdout",
          "text": [
            "training with:  5509\n",
            "random init\n"
          ]
        },
        {
          "output_type": "stream",
          "name": "stderr",
          "text": [
            "Using cache found in /root/.cache/torch/hub/pytorch_vision_v0.10.0\n",
            "/usr/local/lib/python3.9/dist-packages/torchvision/models/_utils.py:208: UserWarning: The parameter 'pretrained' is deprecated since 0.13 and may be removed in the future, please use 'weights' instead.\n",
            "  warnings.warn(\n",
            "/usr/local/lib/python3.9/dist-packages/torchvision/models/_utils.py:223: UserWarning: Arguments other than a weight enum or `None` for 'weights' are deprecated since 0.13 and may be removed in the future. The current behavior is equivalent to passing `weights=None`.\n",
            "  warnings.warn(msg)\n"
          ]
        },
        {
          "output_type": "display_data",
          "data": {
            "text/plain": [
              "<IPython.core.display.HTML object>"
            ],
            "text/html": [
              "Tracking run with wandb version 0.14.0"
            ]
          },
          "metadata": {}
        },
        {
          "output_type": "display_data",
          "data": {
            "text/plain": [
              "<IPython.core.display.HTML object>"
            ],
            "text/html": [
              "Run data is saved locally in <code>/content/wandb/run-20230317_180708-sv5lbgji</code>"
            ]
          },
          "metadata": {}
        },
        {
          "output_type": "display_data",
          "data": {
            "text/plain": [
              "<IPython.core.display.HTML object>"
            ],
            "text/html": [
              "Syncing run <strong><a href='https://wandb.ai/nicholasmagal/resnet_pretrained_caltech_run_frozen_weights/runs/sv5lbgji' target=\"_blank\">random_init_0.3</a></strong> to <a href='https://wandb.ai/nicholasmagal/resnet_pretrained_caltech_run_frozen_weights' target=\"_blank\">Weights & Biases</a> (<a href='https://wandb.me/run' target=\"_blank\">docs</a>)<br/>"
            ]
          },
          "metadata": {}
        },
        {
          "output_type": "display_data",
          "data": {
            "text/plain": [
              "<IPython.core.display.HTML object>"
            ],
            "text/html": [
              " View project at <a href='https://wandb.ai/nicholasmagal/resnet_pretrained_caltech_run_frozen_weights' target=\"_blank\">https://wandb.ai/nicholasmagal/resnet_pretrained_caltech_run_frozen_weights</a>"
            ]
          },
          "metadata": {}
        },
        {
          "output_type": "display_data",
          "data": {
            "text/plain": [
              "<IPython.core.display.HTML object>"
            ],
            "text/html": [
              " View run at <a href='https://wandb.ai/nicholasmagal/resnet_pretrained_caltech_run_frozen_weights/runs/sv5lbgji' target=\"_blank\">https://wandb.ai/nicholasmagal/resnet_pretrained_caltech_run_frozen_weights/runs/sv5lbgji</a>"
            ]
          },
          "metadata": {}
        },
        {
          "output_type": "stream",
          "name": "stdout",
          "text": [
            "Epoch: 0 Train Loss: 0.0213 Val Loss: 0.0628 Train Acc: 0.0608 Val Accuracy: 0.0113 Val ROC AUC 0.5183\n",
            "Epoch Runtime 0:01:58.221478\n",
            "saving model\n",
            "Epoch: 1 Train Loss: 0.0194 Val Loss: 0.0220 Train Acc: 0.0869 Val Accuracy: 0.0720 Val ROC AUC 0.6762\n",
            "Epoch Runtime 0:01:59.303789\n",
            "saving model\n",
            "Epoch: 2 Train Loss: 0.0183 Val Loss: 0.0196 Train Acc: 0.1118 Val Accuracy: 0.0974 Val ROC AUC 0.7543\n",
            "Epoch Runtime 0:01:58.383897\n",
            "saving model\n",
            "Epoch: 3 Train Loss: 0.0176 Val Loss: 0.0192 Train Acc: 0.1216 Val Accuracy: 0.1103 Val ROC AUC 0.7613\n",
            "Epoch Runtime 0:01:58.427750\n",
            "saving model\n",
            "Epoch: 4 Train Loss: 0.0169 Val Loss: 0.0189 Train Acc: 0.1396 Val Accuracy: 0.1135 Val ROC AUC 0.7814\n",
            "Epoch Runtime 0:01:57.931768\n",
            "saving model\n",
            "Epoch: 5 Train Loss: 0.0162 Val Loss: 0.0181 Train Acc: 0.1588 Val Accuracy: 0.1269 Val ROC AUC 0.8013\n",
            "Epoch Runtime 0:01:58.143699\n",
            "saving model\n",
            "Epoch: 6 Train Loss: 0.0148 Val Loss: 0.0169 Train Acc: 0.1933 Val Accuracy: 0.1671 Val ROC AUC 0.8218\n",
            "Epoch Runtime 0:01:58.693599\n",
            "saving model\n",
            "Epoch: 7 Train Loss: 0.0143 Val Loss: 0.0168 Train Acc: 0.2240 Val Accuracy: 0.1758 Val ROC AUC 0.8236\n",
            "Epoch Runtime 0:01:57.988515\n",
            "saving model\n",
            "Epoch: 8 Train Loss: 0.0140 Val Loss: 0.0167 Train Acc: 0.2400 Val Accuracy: 0.1795 Val ROC AUC 0.8279\n",
            "Epoch Runtime 0:01:58.538125\n",
            "saving model\n",
            "Epoch: 9 Train Loss: 0.0138 Val Loss: 0.0166 Train Acc: 0.2460 Val Accuracy: 0.1800 Val ROC AUC 0.8294\n",
            "Epoch Runtime 0:01:58.739615\n",
            "saving model\n",
            "Epoch: 10 Train Loss: 0.0136 Val Loss: 0.0166 Train Acc: 0.2550 Val Accuracy: 0.1844 Val ROC AUC 0.8296\n",
            "Epoch Runtime 0:01:59.074024\n",
            "saving model\n",
            "Epoch: 11 Train Loss: 0.0133 Val Loss: 0.0165 Train Acc: 0.2654 Val Accuracy: 0.1882 Val ROC AUC 0.8315\n",
            "Epoch Runtime 0:01:58.788147\n",
            "saving model\n",
            "Epoch: 12 Train Loss: 0.0132 Val Loss: 0.0164 Train Acc: 0.2714 Val Accuracy: 0.1911 Val ROC AUC 0.8334\n",
            "Epoch Runtime 0:01:59.161491\n",
            "saving model\n",
            "Epoch: 13 Train Loss: 0.0133 Val Loss: 0.0164 Train Acc: 0.2692 Val Accuracy: 0.1915 Val ROC AUC 0.8335\n",
            "Epoch Runtime 0:01:58.900082\n",
            "saving model\n",
            "Epoch: 14 Train Loss: 0.0132 Val Loss: 0.0164 Train Acc: 0.2795 Val Accuracy: 0.1938 Val ROC AUC 0.8332\n",
            "Epoch Runtime 0:01:58.898089\n",
            "saving model\n"
          ]
        },
        {
          "output_type": "display_data",
          "data": {
            "text/plain": [
              "<IPython.core.display.HTML object>"
            ],
            "text/html": [
              "Waiting for W&B process to finish... <strong style=\"color:green\">(success).</strong>"
            ]
          },
          "metadata": {}
        },
        {
          "output_type": "display_data",
          "data": {
            "text/plain": [
              "VBox(children=(Label(value='0.001 MB of 0.001 MB uploaded (0.000 MB deduped)\\r'), FloatProgress(value=1.0, max…"
            ],
            "application/vnd.jupyter.widget-view+json": {
              "version_major": 2,
              "version_minor": 0,
              "model_id": "99acbb25dcd144069ceeaa2ca2d8f553"
            }
          },
          "metadata": {}
        },
        {
          "output_type": "display_data",
          "data": {
            "text/plain": [
              "<IPython.core.display.HTML object>"
            ],
            "text/html": [
              "<style>\n",
              "    table.wandb td:nth-child(1) { padding: 0 10px; text-align: left ; width: auto;} td:nth-child(2) {text-align: left ; width: 100%}\n",
              "    .wandb-row { display: flex; flex-direction: row; flex-wrap: wrap; justify-content: flex-start; width: 100% }\n",
              "    .wandb-col { display: flex; flex-direction: column; flex-basis: 100%; flex: 1; padding: 10px; }\n",
              "    </style>\n",
              "<div class=\"wandb-row\"><div class=\"wandb-col\"><h3>Run history:</h3><br/><table class=\"wandb\"><tr><td>Test Acc</td><td>▁</td></tr><tr><td>Test ROC AUC</td><td>▁</td></tr><tr><td>Training Average Loss</td><td>█▆▅▅▄▄▂▂▂▁▁▁▁▁▁</td></tr><tr><td>Training Avg Acc</td><td>▁▂▃▃▄▄▅▆▇▇▇████</td></tr><tr><td>Val Avg Acc</td><td>▁▃▄▅▅▅▇▇▇▇█████</td></tr><tr><td>Val Avg Loss</td><td>█▂▁▁▁▁▁▁▁▁▁▁▁▁▁</td></tr><tr><td>Val ROC AUC</td><td>▁▅▆▆▇▇█████████</td></tr></table><br/></div><div class=\"wandb-col\"><h3>Run summary:</h3><br/><table class=\"wandb\"><tr><td>Test Acc</td><td>0.19033</td></tr><tr><td>Test ROC AUC</td><td>0.83623</td></tr><tr><td>Training Average Loss</td><td>0.01322</td></tr><tr><td>Training Avg Acc</td><td>0.27954</td></tr><tr><td>Val Avg Acc</td><td>0.19376</td></tr><tr><td>Val Avg Loss</td><td>0.01642</td></tr><tr><td>Val ROC AUC</td><td>0.83318</td></tr></table><br/></div></div>"
            ]
          },
          "metadata": {}
        },
        {
          "output_type": "display_data",
          "data": {
            "text/plain": [
              "<IPython.core.display.HTML object>"
            ],
            "text/html": [
              " View run <strong style=\"color:#cdcd00\">random_init_0.3</strong> at: <a href='https://wandb.ai/nicholasmagal/resnet_pretrained_caltech_run_frozen_weights/runs/sv5lbgji' target=\"_blank\">https://wandb.ai/nicholasmagal/resnet_pretrained_caltech_run_frozen_weights/runs/sv5lbgji</a><br/>Synced 5 W&B file(s), 0 media file(s), 0 artifact file(s) and 0 other file(s)"
            ]
          },
          "metadata": {}
        },
        {
          "output_type": "display_data",
          "data": {
            "text/plain": [
              "<IPython.core.display.HTML object>"
            ],
            "text/html": [
              "Find logs at: <code>./wandb/run-20230317_180708-sv5lbgji/logs</code>"
            ]
          },
          "metadata": {}
        },
        {
          "output_type": "stream",
          "name": "stderr",
          "text": [
            "Using cache found in /root/.cache/torch/hub/pytorch_vision_v0.10.0\n",
            "/usr/local/lib/python3.9/dist-packages/torchvision/models/_utils.py:208: UserWarning: The parameter 'pretrained' is deprecated since 0.13 and may be removed in the future, please use 'weights' instead.\n",
            "  warnings.warn(\n",
            "/usr/local/lib/python3.9/dist-packages/torchvision/models/_utils.py:223: UserWarning: Arguments other than a weight enum or `None` for 'weights' are deprecated since 0.13 and may be removed in the future. The current behavior is equivalent to passing `weights=None`.\n",
            "  warnings.warn(msg)\n"
          ]
        },
        {
          "output_type": "stream",
          "name": "stdout",
          "text": [
            "loaded pretrained\n"
          ]
        },
        {
          "output_type": "display_data",
          "data": {
            "text/plain": [
              "<IPython.core.display.HTML object>"
            ],
            "text/html": [
              "Tracking run with wandb version 0.14.0"
            ]
          },
          "metadata": {}
        },
        {
          "output_type": "display_data",
          "data": {
            "text/plain": [
              "<IPython.core.display.HTML object>"
            ],
            "text/html": [
              "Run data is saved locally in <code>/content/wandb/run-20230317_183815-uwb1z17m</code>"
            ]
          },
          "metadata": {}
        },
        {
          "output_type": "display_data",
          "data": {
            "text/plain": [
              "<IPython.core.display.HTML object>"
            ],
            "text/html": [
              "Syncing run <strong><a href='https://wandb.ai/nicholasmagal/resnet_pretrained_caltech_run_frozen_weights/runs/uwb1z17m' target=\"_blank\">pretrained_0.3</a></strong> to <a href='https://wandb.ai/nicholasmagal/resnet_pretrained_caltech_run_frozen_weights' target=\"_blank\">Weights & Biases</a> (<a href='https://wandb.me/run' target=\"_blank\">docs</a>)<br/>"
            ]
          },
          "metadata": {}
        },
        {
          "output_type": "display_data",
          "data": {
            "text/plain": [
              "<IPython.core.display.HTML object>"
            ],
            "text/html": [
              " View project at <a href='https://wandb.ai/nicholasmagal/resnet_pretrained_caltech_run_frozen_weights' target=\"_blank\">https://wandb.ai/nicholasmagal/resnet_pretrained_caltech_run_frozen_weights</a>"
            ]
          },
          "metadata": {}
        },
        {
          "output_type": "display_data",
          "data": {
            "text/plain": [
              "<IPython.core.display.HTML object>"
            ],
            "text/html": [
              " View run at <a href='https://wandb.ai/nicholasmagal/resnet_pretrained_caltech_run_frozen_weights/runs/uwb1z17m' target=\"_blank\">https://wandb.ai/nicholasmagal/resnet_pretrained_caltech_run_frozen_weights/runs/uwb1z17m</a>"
            ]
          },
          "metadata": {}
        },
        {
          "output_type": "stream",
          "name": "stdout",
          "text": [
            "Epoch: 0 Train Loss: 0.0213 Val Loss: 0.0301 Train Acc: 0.0528 Val Accuracy: 0.0286 Val ROC AUC 0.5383\n",
            "Epoch Runtime 0:01:56.887341\n",
            "saving model\n",
            "Epoch: 1 Train Loss: 0.0193 Val Loss: 0.0279 Train Acc: 0.0850 Val Accuracy: 0.0271 Val ROC AUC 0.5393\n",
            "Epoch Runtime 0:01:57.775576\n",
            "Epoch: 2 Train Loss: 0.0181 Val Loss: 0.0216 Train Acc: 0.1096 Val Accuracy: 0.0569 Val ROC AUC 0.6852\n",
            "Epoch Runtime 0:01:56.760011\n",
            "saving model\n",
            "Epoch: 3 Train Loss: 0.0171 Val Loss: 0.0181 Train Acc: 0.1360 Val Accuracy: 0.1225 Val ROC AUC 0.7950\n",
            "Epoch Runtime 0:01:56.231376\n",
            "saving model\n",
            "Epoch: 4 Train Loss: 0.0163 Val Loss: 0.0177 Train Acc: 0.1597 Val Accuracy: 0.1382 Val ROC AUC 0.8090\n",
            "Epoch Runtime 0:01:56.994121\n",
            "saving model\n",
            "Epoch: 5 Train Loss: 0.0156 Val Loss: 0.0173 Train Acc: 0.1795 Val Accuracy: 0.1521 Val ROC AUC 0.8198\n",
            "Epoch Runtime 0:01:56.127198\n",
            "saving model\n",
            "Epoch: 6 Train Loss: 0.0145 Val Loss: 0.0166 Train Acc: 0.2213 Val Accuracy: 0.1732 Val ROC AUC 0.8327\n",
            "Epoch Runtime 0:01:56.521708\n",
            "saving model\n",
            "Epoch: 7 Train Loss: 0.0141 Val Loss: 0.0164 Train Acc: 0.2485 Val Accuracy: 0.1828 Val ROC AUC 0.8351\n",
            "Epoch Runtime 0:01:56.385980\n",
            "saving model\n",
            "Epoch: 8 Train Loss: 0.0139 Val Loss: 0.0164 Train Acc: 0.2505 Val Accuracy: 0.1879 Val ROC AUC 0.8372\n",
            "Epoch Runtime 0:01:56.736421\n",
            "saving model\n",
            "Epoch: 9 Train Loss: 0.0137 Val Loss: 0.0163 Train Acc: 0.2585 Val Accuracy: 0.1890 Val ROC AUC 0.8387\n",
            "Epoch Runtime 0:01:56.736933\n",
            "saving model\n",
            "Epoch: 10 Train Loss: 0.0136 Val Loss: 0.0163 Train Acc: 0.2639 Val Accuracy: 0.1874 Val ROC AUC 0.8406\n",
            "Epoch Runtime 0:01:58.270122\n",
            "Epoch: 11 Train Loss: 0.0134 Val Loss: 0.0162 Train Acc: 0.2754 Val Accuracy: 0.1907 Val ROC AUC 0.8411\n",
            "Epoch Runtime 0:01:58.877043\n",
            "saving model\n"
          ]
        },
        {
          "output_type": "error",
          "ename": "KeyboardInterrupt",
          "evalue": "ignored",
          "traceback": [
            "\u001b[0;31m---------------------------------------------------------------------------\u001b[0m",
            "\u001b[0;31mKeyboardInterrupt\u001b[0m                         Traceback (most recent call last)",
            "\u001b[0;32m<ipython-input-10-92d50086e9fc>\u001b[0m in \u001b[0;36m<module>\u001b[0;34m\u001b[0m\n\u001b[1;32m     37\u001b[0m     \u001b[0;31m#Training and Testing\u001b[0m\u001b[0;34m\u001b[0m\u001b[0;34m\u001b[0m\u001b[0m\n\u001b[1;32m     38\u001b[0m     \u001b[0mrun_name\u001b[0m \u001b[0;34m=\u001b[0m \u001b[0;34m'pretrained_'\u001b[0m\u001b[0;34m+\u001b[0m \u001b[0mstr\u001b[0m\u001b[0;34m(\u001b[0m\u001b[0mpercentage\u001b[0m\u001b[0;34m)\u001b[0m \u001b[0;32mif\u001b[0m \u001b[0mconfig\u001b[0m\u001b[0;34m[\u001b[0m\u001b[0;34m'Pretrained'\u001b[0m\u001b[0;34m]\u001b[0m \u001b[0;34m==\u001b[0m \u001b[0;32mTrue\u001b[0m \u001b[0;32melse\u001b[0m \u001b[0;34m'random_init_'\u001b[0m\u001b[0;34m+\u001b[0m \u001b[0mstr\u001b[0m\u001b[0;34m(\u001b[0m\u001b[0mpercentage\u001b[0m\u001b[0;34m)\u001b[0m\u001b[0;34m\u001b[0m\u001b[0;34m\u001b[0m\u001b[0m\n\u001b[0;32m---> 39\u001b[0;31m     \u001b[0mtrain_validate_test\u001b[0m\u001b[0;34m(\u001b[0m\u001b[0mmodel\u001b[0m\u001b[0;34m,\u001b[0m \u001b[0mtraining_loader\u001b[0m\u001b[0;34m,\u001b[0m \u001b[0mvalidation_loader\u001b[0m\u001b[0;34m,\u001b[0m \u001b[0moptimizer\u001b[0m\u001b[0;34m,\u001b[0m \u001b[0mloss_function\u001b[0m\u001b[0;34m,\u001b[0m \u001b[0mconfig\u001b[0m\u001b[0;34m[\u001b[0m\u001b[0;34m'epochs'\u001b[0m\u001b[0;34m]\u001b[0m\u001b[0;34m,\u001b[0m \u001b[0mdevice\u001b[0m\u001b[0;34m,\u001b[0m\u001b[0mscheduler\u001b[0m\u001b[0;34m,\u001b[0m \u001b[0mconfig\u001b[0m\u001b[0;34m,\u001b[0m\u001b[0mmodel_save_location\u001b[0m\u001b[0;34m,\u001b[0m \u001b[0mtest_loader\u001b[0m\u001b[0;34m,\u001b[0m \u001b[0mrun_name\u001b[0m\u001b[0;34m)\u001b[0m\u001b[0;34m\u001b[0m\u001b[0;34m\u001b[0m\u001b[0m\n\u001b[0m",
            "\u001b[0;32m<ipython-input-9-137297c462e9>\u001b[0m in \u001b[0;36mtrain_validate_test\u001b[0;34m(model, train_loader, val_loader, optimizer, loss_function, total_epochs, device, scheduler, config, model_save_location, test_loader, name)\u001b[0m\n\u001b[1;32m     66\u001b[0m     \u001b[0mground_truth\u001b[0m \u001b[0;34m=\u001b[0m \u001b[0mnp\u001b[0m\u001b[0;34m.\u001b[0m\u001b[0mconcatenate\u001b[0m\u001b[0;34m(\u001b[0m\u001b[0;34m(\u001b[0m\u001b[0mground_truth\u001b[0m\u001b[0;34m)\u001b[0m\u001b[0;34m,\u001b[0m \u001b[0maxis\u001b[0m \u001b[0;34m=\u001b[0m \u001b[0;36m0\u001b[0m\u001b[0;34m)\u001b[0m\u001b[0;34m\u001b[0m\u001b[0;34m\u001b[0m\u001b[0m\n\u001b[1;32m     67\u001b[0m     \u001b[0mpredictions\u001b[0m \u001b[0;34m=\u001b[0m \u001b[0mnp\u001b[0m\u001b[0;34m.\u001b[0m\u001b[0mconcatenate\u001b[0m\u001b[0;34m(\u001b[0m\u001b[0;34m(\u001b[0m\u001b[0mpredictions\u001b[0m\u001b[0;34m)\u001b[0m\u001b[0;34m,\u001b[0m \u001b[0maxis\u001b[0m \u001b[0;34m=\u001b[0m \u001b[0;36m0\u001b[0m\u001b[0;34m)\u001b[0m\u001b[0;34m\u001b[0m\u001b[0;34m\u001b[0m\u001b[0m\n\u001b[0;32m---> 68\u001b[0;31m     \u001b[0mroc_auc\u001b[0m \u001b[0;34m=\u001b[0m \u001b[0mmetrics\u001b[0m\u001b[0;34m.\u001b[0m\u001b[0mroc_auc_score\u001b[0m\u001b[0;34m(\u001b[0m\u001b[0mground_truth\u001b[0m\u001b[0;34m,\u001b[0m \u001b[0mpredictions\u001b[0m\u001b[0;34m,\u001b[0m \u001b[0maverage\u001b[0m\u001b[0;34m=\u001b[0m\u001b[0;34m'macro'\u001b[0m\u001b[0;34m,\u001b[0m \u001b[0mmulti_class\u001b[0m \u001b[0;34m=\u001b[0m \u001b[0;34m'ovo'\u001b[0m\u001b[0;34m)\u001b[0m\u001b[0;34m\u001b[0m\u001b[0;34m\u001b[0m\u001b[0m\n\u001b[0m\u001b[1;32m     69\u001b[0m \u001b[0;34m\u001b[0m\u001b[0m\n\u001b[1;32m     70\u001b[0m     \u001b[0mscheduler\u001b[0m\u001b[0;34m.\u001b[0m\u001b[0mstep\u001b[0m\u001b[0;34m(\u001b[0m\u001b[0mavg_val_loss\u001b[0m\u001b[0;34m)\u001b[0m\u001b[0;34m\u001b[0m\u001b[0;34m\u001b[0m\u001b[0m\n",
            "\u001b[0;32m/usr/local/lib/python3.9/dist-packages/sklearn/metrics/_ranking.py\u001b[0m in \u001b[0;36mroc_auc_score\u001b[0;34m(y_true, y_score, average, sample_weight, max_fpr, multi_class, labels)\u001b[0m\n\u001b[1;32m    564\u001b[0m         \u001b[0;32mif\u001b[0m \u001b[0mmulti_class\u001b[0m \u001b[0;34m==\u001b[0m \u001b[0;34m\"raise\"\u001b[0m\u001b[0;34m:\u001b[0m\u001b[0;34m\u001b[0m\u001b[0;34m\u001b[0m\u001b[0m\n\u001b[1;32m    565\u001b[0m             \u001b[0;32mraise\u001b[0m \u001b[0mValueError\u001b[0m\u001b[0;34m(\u001b[0m\u001b[0;34m\"multi_class must be in ('ovo', 'ovr')\"\u001b[0m\u001b[0;34m)\u001b[0m\u001b[0;34m\u001b[0m\u001b[0;34m\u001b[0m\u001b[0m\n\u001b[0;32m--> 566\u001b[0;31m         return _multiclass_roc_auc_score(\n\u001b[0m\u001b[1;32m    567\u001b[0m             \u001b[0my_true\u001b[0m\u001b[0;34m,\u001b[0m \u001b[0my_score\u001b[0m\u001b[0;34m,\u001b[0m \u001b[0mlabels\u001b[0m\u001b[0;34m,\u001b[0m \u001b[0mmulti_class\u001b[0m\u001b[0;34m,\u001b[0m \u001b[0maverage\u001b[0m\u001b[0;34m,\u001b[0m \u001b[0msample_weight\u001b[0m\u001b[0;34m\u001b[0m\u001b[0;34m\u001b[0m\u001b[0m\n\u001b[1;32m    568\u001b[0m         )\n",
            "\u001b[0;32m/usr/local/lib/python3.9/dist-packages/sklearn/metrics/_ranking.py\u001b[0m in \u001b[0;36m_multiclass_roc_auc_score\u001b[0;34m(y_true, y_score, labels, multi_class, average, sample_weight)\u001b[0m\n\u001b[1;32m    695\u001b[0m         \u001b[0my_true_encoded\u001b[0m \u001b[0;34m=\u001b[0m \u001b[0m_encode\u001b[0m\u001b[0;34m(\u001b[0m\u001b[0my_true\u001b[0m\u001b[0;34m,\u001b[0m \u001b[0muniques\u001b[0m\u001b[0;34m=\u001b[0m\u001b[0mclasses\u001b[0m\u001b[0;34m)\u001b[0m\u001b[0;34m\u001b[0m\u001b[0;34m\u001b[0m\u001b[0m\n\u001b[1;32m    696\u001b[0m         \u001b[0;31m# Hand & Till (2001) implementation (ovo)\u001b[0m\u001b[0;34m\u001b[0m\u001b[0;34m\u001b[0m\u001b[0m\n\u001b[0;32m--> 697\u001b[0;31m         return _average_multiclass_ovo_score(\n\u001b[0m\u001b[1;32m    698\u001b[0m             \u001b[0m_binary_roc_auc_score\u001b[0m\u001b[0;34m,\u001b[0m \u001b[0my_true_encoded\u001b[0m\u001b[0;34m,\u001b[0m \u001b[0my_score\u001b[0m\u001b[0;34m,\u001b[0m \u001b[0maverage\u001b[0m\u001b[0;34m=\u001b[0m\u001b[0maverage\u001b[0m\u001b[0;34m\u001b[0m\u001b[0;34m\u001b[0m\u001b[0m\n\u001b[1;32m    699\u001b[0m         )\n",
            "\u001b[0;32m/usr/local/lib/python3.9/dist-packages/sklearn/metrics/_base.py\u001b[0m in \u001b[0;36m_average_multiclass_ovo_score\u001b[0;34m(binary_metric, y_true, y_score, average)\u001b[0m\n\u001b[1;32m    194\u001b[0m \u001b[0;34m\u001b[0m\u001b[0m\n\u001b[1;32m    195\u001b[0m         \u001b[0ma_true_score\u001b[0m \u001b[0;34m=\u001b[0m \u001b[0mbinary_metric\u001b[0m\u001b[0;34m(\u001b[0m\u001b[0ma_true\u001b[0m\u001b[0;34m,\u001b[0m \u001b[0my_score\u001b[0m\u001b[0;34m[\u001b[0m\u001b[0mab_mask\u001b[0m\u001b[0;34m,\u001b[0m \u001b[0ma\u001b[0m\u001b[0;34m]\u001b[0m\u001b[0;34m)\u001b[0m\u001b[0;34m\u001b[0m\u001b[0;34m\u001b[0m\u001b[0m\n\u001b[0;32m--> 196\u001b[0;31m         \u001b[0mb_true_score\u001b[0m \u001b[0;34m=\u001b[0m \u001b[0mbinary_metric\u001b[0m\u001b[0;34m(\u001b[0m\u001b[0mb_true\u001b[0m\u001b[0;34m,\u001b[0m \u001b[0my_score\u001b[0m\u001b[0;34m[\u001b[0m\u001b[0mab_mask\u001b[0m\u001b[0;34m,\u001b[0m \u001b[0mb\u001b[0m\u001b[0;34m]\u001b[0m\u001b[0;34m)\u001b[0m\u001b[0;34m\u001b[0m\u001b[0;34m\u001b[0m\u001b[0m\n\u001b[0m\u001b[1;32m    197\u001b[0m         \u001b[0mpair_scores\u001b[0m\u001b[0;34m[\u001b[0m\u001b[0mix\u001b[0m\u001b[0;34m]\u001b[0m \u001b[0;34m=\u001b[0m \u001b[0;34m(\u001b[0m\u001b[0ma_true_score\u001b[0m \u001b[0;34m+\u001b[0m \u001b[0mb_true_score\u001b[0m\u001b[0;34m)\u001b[0m \u001b[0;34m/\u001b[0m \u001b[0;36m2\u001b[0m\u001b[0;34m\u001b[0m\u001b[0;34m\u001b[0m\u001b[0m\n\u001b[1;32m    198\u001b[0m \u001b[0;34m\u001b[0m\u001b[0m\n",
            "\u001b[0;32m/usr/local/lib/python3.9/dist-packages/sklearn/metrics/_ranking.py\u001b[0m in \u001b[0;36m_binary_roc_auc_score\u001b[0;34m(y_true, y_score, sample_weight, max_fpr)\u001b[0m\n\u001b[1;32m    344\u001b[0m     \u001b[0mfpr\u001b[0m\u001b[0;34m,\u001b[0m \u001b[0mtpr\u001b[0m\u001b[0;34m,\u001b[0m \u001b[0m_\u001b[0m \u001b[0;34m=\u001b[0m \u001b[0mroc_curve\u001b[0m\u001b[0;34m(\u001b[0m\u001b[0my_true\u001b[0m\u001b[0;34m,\u001b[0m \u001b[0my_score\u001b[0m\u001b[0;34m,\u001b[0m \u001b[0msample_weight\u001b[0m\u001b[0;34m=\u001b[0m\u001b[0msample_weight\u001b[0m\u001b[0;34m)\u001b[0m\u001b[0;34m\u001b[0m\u001b[0;34m\u001b[0m\u001b[0m\n\u001b[1;32m    345\u001b[0m     \u001b[0;32mif\u001b[0m \u001b[0mmax_fpr\u001b[0m \u001b[0;32mis\u001b[0m \u001b[0;32mNone\u001b[0m \u001b[0;32mor\u001b[0m \u001b[0mmax_fpr\u001b[0m \u001b[0;34m==\u001b[0m \u001b[0;36m1\u001b[0m\u001b[0;34m:\u001b[0m\u001b[0;34m\u001b[0m\u001b[0;34m\u001b[0m\u001b[0m\n\u001b[0;32m--> 346\u001b[0;31m         \u001b[0;32mreturn\u001b[0m \u001b[0mauc\u001b[0m\u001b[0;34m(\u001b[0m\u001b[0mfpr\u001b[0m\u001b[0;34m,\u001b[0m \u001b[0mtpr\u001b[0m\u001b[0;34m)\u001b[0m\u001b[0;34m\u001b[0m\u001b[0;34m\u001b[0m\u001b[0m\n\u001b[0m\u001b[1;32m    347\u001b[0m     \u001b[0;32mif\u001b[0m \u001b[0mmax_fpr\u001b[0m \u001b[0;34m<=\u001b[0m \u001b[0;36m0\u001b[0m \u001b[0;32mor\u001b[0m \u001b[0mmax_fpr\u001b[0m \u001b[0;34m>\u001b[0m \u001b[0;36m1\u001b[0m\u001b[0;34m:\u001b[0m\u001b[0;34m\u001b[0m\u001b[0;34m\u001b[0m\u001b[0m\n\u001b[1;32m    348\u001b[0m         \u001b[0;32mraise\u001b[0m \u001b[0mValueError\u001b[0m\u001b[0;34m(\u001b[0m\u001b[0;34m\"Expected max_fpr in range (0, 1], got: %r\"\u001b[0m \u001b[0;34m%\u001b[0m \u001b[0mmax_fpr\u001b[0m\u001b[0;34m)\u001b[0m\u001b[0;34m\u001b[0m\u001b[0;34m\u001b[0m\u001b[0m\n",
            "\u001b[0;32m/usr/local/lib/python3.9/dist-packages/sklearn/metrics/_ranking.py\u001b[0m in \u001b[0;36mauc\u001b[0;34m(x, y)\u001b[0m\n\u001b[1;32m     84\u001b[0m     \"\"\"\n\u001b[1;32m     85\u001b[0m     \u001b[0mcheck_consistent_length\u001b[0m\u001b[0;34m(\u001b[0m\u001b[0mx\u001b[0m\u001b[0;34m,\u001b[0m \u001b[0my\u001b[0m\u001b[0;34m)\u001b[0m\u001b[0;34m\u001b[0m\u001b[0;34m\u001b[0m\u001b[0m\n\u001b[0;32m---> 86\u001b[0;31m     \u001b[0mx\u001b[0m \u001b[0;34m=\u001b[0m \u001b[0mcolumn_or_1d\u001b[0m\u001b[0;34m(\u001b[0m\u001b[0mx\u001b[0m\u001b[0;34m)\u001b[0m\u001b[0;34m\u001b[0m\u001b[0;34m\u001b[0m\u001b[0m\n\u001b[0m\u001b[1;32m     87\u001b[0m     \u001b[0my\u001b[0m \u001b[0;34m=\u001b[0m \u001b[0mcolumn_or_1d\u001b[0m\u001b[0;34m(\u001b[0m\u001b[0my\u001b[0m\u001b[0;34m)\u001b[0m\u001b[0;34m\u001b[0m\u001b[0;34m\u001b[0m\u001b[0m\n\u001b[1;32m     88\u001b[0m \u001b[0;34m\u001b[0m\u001b[0m\n",
            "\u001b[0;32m/usr/local/lib/python3.9/dist-packages/sklearn/utils/validation.py\u001b[0m in \u001b[0;36mcolumn_or_1d\u001b[0;34m(y, dtype, warn)\u001b[0m\n\u001b[1;32m   1177\u001b[0m     \"\"\"\n\u001b[1;32m   1178\u001b[0m     \u001b[0mxp\u001b[0m\u001b[0;34m,\u001b[0m \u001b[0m_\u001b[0m \u001b[0;34m=\u001b[0m \u001b[0mget_namespace\u001b[0m\u001b[0;34m(\u001b[0m\u001b[0my\u001b[0m\u001b[0;34m)\u001b[0m\u001b[0;34m\u001b[0m\u001b[0;34m\u001b[0m\u001b[0m\n\u001b[0;32m-> 1179\u001b[0;31m     y = check_array(\n\u001b[0m\u001b[1;32m   1180\u001b[0m         \u001b[0my\u001b[0m\u001b[0;34m,\u001b[0m\u001b[0;34m\u001b[0m\u001b[0;34m\u001b[0m\u001b[0m\n\u001b[1;32m   1181\u001b[0m         \u001b[0mensure_2d\u001b[0m\u001b[0;34m=\u001b[0m\u001b[0;32mFalse\u001b[0m\u001b[0;34m,\u001b[0m\u001b[0;34m\u001b[0m\u001b[0;34m\u001b[0m\u001b[0m\n",
            "\u001b[0;32m/usr/local/lib/python3.9/dist-packages/sklearn/utils/validation.py\u001b[0m in \u001b[0;36mcheck_array\u001b[0;34m(array, accept_sparse, accept_large_sparse, dtype, order, copy, force_all_finite, ensure_2d, allow_nd, ensure_min_samples, ensure_min_features, estimator, input_name)\u001b[0m\n\u001b[1;32m    859\u001b[0m         \u001b[0;31m# thereby passing the test made in the lines following the scope\u001b[0m\u001b[0;34m\u001b[0m\u001b[0;34m\u001b[0m\u001b[0m\n\u001b[1;32m    860\u001b[0m         \u001b[0;31m# of warnings context manager.\u001b[0m\u001b[0;34m\u001b[0m\u001b[0;34m\u001b[0m\u001b[0m\n\u001b[0;32m--> 861\u001b[0;31m         \u001b[0;32mwith\u001b[0m \u001b[0mwarnings\u001b[0m\u001b[0;34m.\u001b[0m\u001b[0mcatch_warnings\u001b[0m\u001b[0;34m(\u001b[0m\u001b[0;34m)\u001b[0m\u001b[0;34m:\u001b[0m\u001b[0;34m\u001b[0m\u001b[0;34m\u001b[0m\u001b[0m\n\u001b[0m\u001b[1;32m    862\u001b[0m             \u001b[0;32mtry\u001b[0m\u001b[0;34m:\u001b[0m\u001b[0;34m\u001b[0m\u001b[0;34m\u001b[0m\u001b[0m\n\u001b[1;32m    863\u001b[0m                 \u001b[0mwarnings\u001b[0m\u001b[0;34m.\u001b[0m\u001b[0msimplefilter\u001b[0m\u001b[0;34m(\u001b[0m\u001b[0;34m\"error\"\u001b[0m\u001b[0;34m,\u001b[0m \u001b[0mComplexWarning\u001b[0m\u001b[0;34m)\u001b[0m\u001b[0;34m\u001b[0m\u001b[0;34m\u001b[0m\u001b[0m\n",
            "\u001b[0;32m/usr/lib/python3.9/warnings.py\u001b[0m in \u001b[0;36m__init__\u001b[0;34m(self, record, module)\u001b[0m\n\u001b[1;32m    444\u001b[0m         \"\"\"\n\u001b[1;32m    445\u001b[0m         \u001b[0mself\u001b[0m\u001b[0;34m.\u001b[0m\u001b[0m_record\u001b[0m \u001b[0;34m=\u001b[0m \u001b[0mrecord\u001b[0m\u001b[0;34m\u001b[0m\u001b[0;34m\u001b[0m\u001b[0m\n\u001b[0;32m--> 446\u001b[0;31m         \u001b[0mself\u001b[0m\u001b[0;34m.\u001b[0m\u001b[0m_module\u001b[0m \u001b[0;34m=\u001b[0m \u001b[0msys\u001b[0m\u001b[0;34m.\u001b[0m\u001b[0mmodules\u001b[0m\u001b[0;34m[\u001b[0m\u001b[0;34m'warnings'\u001b[0m\u001b[0;34m]\u001b[0m \u001b[0;32mif\u001b[0m \u001b[0mmodule\u001b[0m \u001b[0;32mis\u001b[0m \u001b[0;32mNone\u001b[0m \u001b[0;32melse\u001b[0m \u001b[0mmodule\u001b[0m\u001b[0;34m\u001b[0m\u001b[0;34m\u001b[0m\u001b[0m\n\u001b[0m\u001b[1;32m    447\u001b[0m         \u001b[0mself\u001b[0m\u001b[0;34m.\u001b[0m\u001b[0m_entered\u001b[0m \u001b[0;34m=\u001b[0m \u001b[0;32mFalse\u001b[0m\u001b[0;34m\u001b[0m\u001b[0;34m\u001b[0m\u001b[0m\n\u001b[1;32m    448\u001b[0m \u001b[0;34m\u001b[0m\u001b[0m\n",
            "\u001b[0;31mKeyboardInterrupt\u001b[0m: "
          ]
        }
      ]
    }
  ]
}